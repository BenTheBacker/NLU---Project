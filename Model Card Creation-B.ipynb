{
 "cells": [
  {
   "cell_type": "markdown",
   "metadata": {
    "id": "3y5__yaUKyb1"
   },
   "source": [
    "The model card template makes use of Jinja, hence we need to install the necessary package."
   ]
  },
  {
   "cell_type": "code",
   "execution_count": 7,
   "metadata": {
    "colab": {
     "base_uri": "https://localhost:8080/"
    },
    "executionInfo": {
     "elapsed": 4350,
     "status": "ok",
     "timestamp": 1739734646291,
     "user": {
      "displayName": "rbbatista",
      "userId": "16466300301400709217"
     },
     "user_tz": 0
    },
    "id": "kjSmXdzczFoh",
    "outputId": "27891584-dbd5-4970-fcd4-a49e682827fc"
   },
   "outputs": [
    {
     "name": "stdout",
     "output_type": "stream",
     "text": [
      "Requirement already satisfied: Jinja2 in c:\\users\\backe\\appdata\\local\\programs\\python\\python38-32\\lib\\site-packages (3.1.4)\n",
      "Requirement already satisfied: MarkupSafe>=2.0 in c:\\users\\backe\\appdata\\local\\programs\\python\\python38-32\\lib\\site-packages (from Jinja2) (2.1.5)\n"
     ]
    },
    {
     "name": "stderr",
     "output_type": "stream",
     "text": [
      "\n",
      "[notice] A new release of pip is available: 24.3.1 -> 25.0.1\n",
      "[notice] To update, run: python.exe -m pip install --upgrade pip\n"
     ]
    },
    {
     "name": "stdout",
     "output_type": "stream",
     "text": [
      "Requirement already satisfied: huggingface-hub in c:\\users\\backe\\appdata\\local\\programs\\python\\python38-32\\lib\\site-packages (0.30.1)\n",
      "Requirement already satisfied: filelock in c:\\users\\backe\\appdata\\local\\programs\\python\\python38-32\\lib\\site-packages (from huggingface-hub) (3.16.1)\n",
      "Requirement already satisfied: fsspec>=2023.5.0 in c:\\users\\backe\\appdata\\local\\programs\\python\\python38-32\\lib\\site-packages (from huggingface-hub) (2025.3.0)\n",
      "Requirement already satisfied: packaging>=20.9 in c:\\users\\backe\\appdata\\local\\programs\\python\\python38-32\\lib\\site-packages (from huggingface-hub) (24.1)\n",
      "Requirement already satisfied: pyyaml>=5.1 in c:\\users\\backe\\appdata\\local\\programs\\python\\python38-32\\lib\\site-packages (from huggingface-hub) (6.0.2)\n",
      "Requirement already satisfied: requests in c:\\users\\backe\\appdata\\local\\programs\\python\\python38-32\\lib\\site-packages (from huggingface-hub) (2.32.3)\n",
      "Requirement already satisfied: tqdm>=4.42.1 in c:\\users\\backe\\appdata\\local\\programs\\python\\python38-32\\lib\\site-packages (from huggingface-hub) (4.66.5)\n",
      "Requirement already satisfied: typing-extensions>=3.7.4.3 in c:\\users\\backe\\appdata\\local\\programs\\python\\python38-32\\lib\\site-packages (from huggingface-hub) (4.12.2)\n",
      "Requirement already satisfied: colorama in c:\\users\\backe\\appdata\\roaming\\python\\python38\\site-packages (from tqdm>=4.42.1->huggingface-hub) (0.4.6)\n",
      "Requirement already satisfied: charset-normalizer<4,>=2 in c:\\users\\backe\\appdata\\local\\programs\\python\\python38-32\\lib\\site-packages (from requests->huggingface-hub) (3.3.2)\n",
      "Requirement already satisfied: idna<4,>=2.5 in c:\\users\\backe\\appdata\\local\\programs\\python\\python38-32\\lib\\site-packages (from requests->huggingface-hub) (3.7)\n",
      "Requirement already satisfied: urllib3<3,>=1.21.1 in c:\\users\\backe\\appdata\\local\\programs\\python\\python38-32\\lib\\site-packages (from requests->huggingface-hub) (2.2.2)\n",
      "Requirement already satisfied: certifi>=2017.4.17 in c:\\users\\backe\\appdata\\local\\programs\\python\\python38-32\\lib\\site-packages (from requests->huggingface-hub) (2024.6.2)\n"
     ]
    },
    {
     "name": "stderr",
     "output_type": "stream",
     "text": [
      "\n",
      "[notice] A new release of pip is available: 24.3.1 -> 25.0.1\n",
      "[notice] To update, run: python.exe -m pip install --upgrade pip\n"
     ]
    }
   ],
   "source": [
    "!pip install Jinja2\n",
    "!pip install huggingface-hub\n"
   ]
  },
  {
   "cell_type": "markdown",
   "metadata": {
    "id": "Puto8-5ILO2s"
   },
   "source": [
    "Required import statement"
   ]
  },
  {
   "cell_type": "code",
   "execution_count": 8,
   "metadata": {
    "executionInfo": {
     "elapsed": 1091,
     "status": "ok",
     "timestamp": 1739734647380,
     "user": {
      "displayName": "rbbatista",
      "userId": "16466300301400709217"
     },
     "user_tz": 0
    },
    "id": "inUOAq0Yy_O5"
   },
   "outputs": [],
   "source": [
    "from huggingface_hub import ModelCard, ModelCardData"
   ]
  },
  {
   "cell_type": "markdown",
   "metadata": {
    "id": "TX5nkStaLTRC"
   },
   "source": [
    "Before running the cell below, upload the model card template (`COMP34812_modelcard_template.md`) provided to you using the Colab file browser (on the left-hand side)."
   ]
  },
  {
   "cell_type": "code",
   "execution_count": 9,
   "metadata": {
    "colab": {
     "base_uri": "https://localhost:8080/"
    },
    "executionInfo": {
     "elapsed": 2,
     "status": "ok",
     "timestamp": 1739734647381,
     "user": {
      "displayName": "rbbatista",
      "userId": "16466300301400709217"
     },
     "user_tz": 0
    },
    "id": "pg4o6fuPbl5X",
    "outputId": "2a50a3a5-c07e-4777-bf8c-3e555af6518c"
   },
   "outputs": [
    {
     "name": "stderr",
     "output_type": "stream",
     "text": [
      "Repo card metadata block was not found. Setting CardData to empty.\n"
     ]
    },
    {
     "name": "stdout",
     "output_type": "stream",
     "text": [
      "Model card generated: my_updated_model_card.md\n"
     ]
    }
   ],
   "source": [
    "# ----------------------------------------------------------------------------\n",
    "# 1. Model Card Data (metadata)\n",
    "# ----------------------------------------------------------------------------\n",
    "card_data = ModelCardData(\n",
    "    language='en',\n",
    "    license='cc-by-4.0',\n",
    "    tags=['text-classification'],\n",
    "    repo=\"https://github.com/BenTheBacker/NLU---Project\",\n",
    "    ignore_metadata_errors=True\n",
    ")\n",
    "\n",
    "# ----------------------------------------------------------------------------\n",
    "# 2. Best Hyperparams String\n",
    "# ----------------------------------------------------------------------------\n",
    "best_hyperparams_str = \"\"\"\n",
    "- learning_rate: 0.00018668565591363687\n",
    "- epochs: 4\n",
    "- batch_size: 4\n",
    "- use_focal_loss: True\n",
    "- gamma: 5.0\n",
    "- label_smoothing: 0.17681928136354222\n",
    "\"\"\"\n",
    "\n",
    "# ----------------------------------------------------------------------------\n",
    "# 3. Generate Model Card\n",
    "# ----------------------------------------------------------------------------\n",
    "card = ModelCard.from_template(\n",
    "    card_data=card_data,\n",
    "    template_path='COMP34812_modelcard_template.md',\n",
    "    model_id='m81976bb-v36373bb-ED-TaskB',\n",
    "\n",
    "    model_summary='''This classification model determines whether a given claim \n",
    "      supports or refutes a piece of evidence, following the ED track specification.''',\n",
    "\n",
    "    model_description='''Our approach uses a custom BiLSTM architecture, with optional attention \n",
    "      and GloVe embeddings. We fine-tuned hyperparameters using Hyperopt \n",
    "      (TPE algorithm).''',\n",
    "\n",
    "    developers='Ben Baker and Ben Barrow',\n",
    "    model_type='Supervised',\n",
    "    model_architecture='BiLSTM with attention and GloVe embeddings',\n",
    "    language='English',\n",
    "    base_model='N/A',\n",
    "\n",
    "    training_data='This model was trained on approximately 24.8k claim-evidence pairs, plus augmented samples.',\n",
    "\n",
    "    hyperparameters=''' \n",
    "      - learning_rate: searched via hyperopt (log-uniform 1e-5 to 5e-4)\n",
    "      - batch_size: 4, 8, 16\n",
    "      - epochs: 2, 3, 4\n",
    "      - label_smoothing: 0.0 to 0.2\n",
    "      - gamma (Focal Loss): 1.0 to 5.0\n",
    "    ''',\n",
    "\n",
    "    best_hyperparams=best_hyperparams_str,\n",
    "\n",
    "    speeds_sizes_times='''\n",
    "      - overall training time (per final run): ~8-10 minutes on a Kaggle P100 GPU\n",
    "      - total training time for all Hyperopt trials: ~2h 35m 18s\n",
    "      - total epochs: 4\n",
    "      - model size: ~270MB\n",
    "    ''',\n",
    "\n",
    "    testing_data='We used the official ED dev set (~6k samples) for evaluation.',\n",
    "    \n",
    "    testing_metrics='''\n",
    "      - F1 (weighted)\n",
    "      - Accuracy\n",
    "      - Classification report (Precision/Recall/F1)\n",
    "    ''',\n",
    "\n",
    "    results='''**Final Dev Results**  \n",
    "- **Loss**: 0.01393  \n",
    "- **F1 (weighted)**: ~0.8090  \n",
    "- **Accuracy**: ~0.8115  \n",
    "\n",
    "**Epoch-by-Epoch Performance (Dev)**  \n",
    "\n",
    "| Epoch | Training Loss | Val Loss  | F1      | Accuracy  |\n",
    "|-------|--------------:|----------:|--------:|----------:|\n",
    "|   1   | 0.014900      | 0.013771  | 0.803215| 0.807121  |\n",
    "|   2   | 0.010500      | 0.013932  | 0.809048| 0.811509  |\n",
    "|   3   | 0.007700      | 0.018103  | 0.802930| 0.804590  |\n",
    "|   4   | 0.005400      | 0.026158  | 0.799684| 0.801721  |\n",
    "\n",
    "**Classification Report**  \n",
    "- Class 0 => precision=0.8589, recall=0.8847, f1=0.8716  \n",
    "- Class 1 => precision=0.6731, recall=0.6201, f1=0.6455  \n",
    "- Accuracy => 0.8115  \n",
    "- Weighted Avg F1 => 0.8090\n",
    "''',\n",
    "\n",
    "    hardware_requirements='''\n",
    "      - GPU recommended (trained on a Kaggle P100)\n",
    "      - ~2GB storage for GloVe embeddings\n",
    "      - ~16GB RAM\n",
    "    ''',\n",
    "\n",
    "    software='''\n",
    "      - Transformers 4.x\n",
    "      - PyTorch 1.x\n",
    "      - NLTK for data augmentation\n",
    "      - Hyperopt for hyperparameter tuning\n",
    "    ''',\n",
    "\n",
    "    bias_risks_limitations='''Data augmentation may introduce synonyms that alter sentence context. \n",
    "      The model performance may degrade on domain-specific language \n",
    "      or out-of-vocabulary terms. Mitigation strategies may involve \n",
    "      domain adaptation or further data collection.''',\n",
    "\n",
    "    additional_information='''All hyperparameters were chosen via TPE (Tree-structured Parzen Estimator) \n",
    "      with a maximum of 30 evaluations.'''\n",
    ")\n",
    "\n",
    "# ----------------------------------------------------------------------------\n",
    "# 4. Write Model Card to File\n",
    "# ----------------------------------------------------------------------------\n",
    "with open('B Model Card.md', 'w') as model_card_file:\n",
    "    model_card_file.write(card.content)\n",
    "\n",
    "print(\"Model card generated: my_updated_model_card.md\")\n"
   ]
  }
 ],
 "metadata": {
  "colab": {
   "authorship_tag": "ABX9TyPzvps9Dhvz36rnNhpWjrbn",
   "provenance": []
  },
  "kernelspec": {
   "display_name": "Python 3",
   "name": "python3"
  },
  "language_info": {
   "codemirror_mode": {
    "name": "ipython",
    "version": 3
   },
   "file_extension": ".py",
   "mimetype": "text/x-python",
   "name": "python",
   "nbconvert_exporter": "python",
   "pygments_lexer": "ipython3",
   "version": "3.8.0"
  }
 },
 "nbformat": 4,
 "nbformat_minor": 0
}
