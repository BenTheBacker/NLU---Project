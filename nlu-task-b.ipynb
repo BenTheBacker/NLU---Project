{
 "cells": [
  {
   "cell_type": "code",
   "execution_count": 23,
   "metadata": {
    "execution": {
     "iopub.execute_input": "2025-04-01T17:44:42.457578Z",
     "iopub.status.busy": "2025-04-01T17:44:42.457314Z",
     "iopub.status.idle": "2025-04-01T17:45:03.004922Z",
     "shell.execute_reply": "2025-04-01T17:45:03.004134Z",
     "shell.execute_reply.started": "2025-04-01T17:44:42.457550Z"
    }
   },
   "outputs": [
    {
     "name": "stdout",
     "output_type": "stream",
     "text": [
      "Using device: cuda\n"
     ]
    }
   ],
   "source": [
    "import os\n",
    "import numpy as np\n",
    "import pandas as pd\n",
    "import torch\n",
    "import random\n",
    "import nltk\n",
    "import torch.nn as nn\n",
    "import torch.nn.functional as F\n",
    "\n",
    "from tqdm import tqdm\n",
    "from nltk.corpus import wordnet\n",
    "from transformers import AutoTokenizer\n",
    "from datasets import Dataset, DatasetDict\n",
    "from hyperopt import fmin, tpe, hp, STATUS_OK, Trials\n",
    "from sklearn.metrics import f1_score, accuracy_score, classification_report\n",
    "from transformers import Trainer, TrainingArguments\n",
    "\n",
    "# ----------------------------------------------------------------------------\n",
    "# Global Variables and Flags\n",
    "# ----------------------------------------------------------------------------\n",
    "TESTING_FLAG = True  # If True, print debug info\n",
    "DOWNLOAD_FLAG = True # If True, handle NLTK data\n",
    "\n",
    "NLTK_DATA_DIR = \"data\\\\nltk_data\"\n",
    "TRAIN_PATH = \"data\\\\train.csv\"\n",
    "DEV_PATH   = \"data\\\\dev.csv\"\n",
    "TEST_PATH  = \"data\\\\test.csv\" \n",
    "\n",
    "BEST_MODEL_PATH = \"data\\\\ED_B_Model.pt\"\n",
    "OUTPUT_PATH = \"data\\\\predictions.csv\"\n",
    "\n",
    "AUGMENTED_COPY_CHANCE = 0.15\n",
    "EPOCH_OPTIONS = [2, 3, 4]\n",
    "BATCH_OPTIONS  = [4, 8, 16]\n",
    "USE_FOCAL_OPTIONS = [False, True]\n",
    "\n",
    "SEARCH_SPACE = {\n",
    "    \"learning_rate\":   hp.loguniform(\"learning_rate\", np.log(1e-5), np.log(5e-4)),\n",
    "    \"epochs\":          hp.choice(\"epochs\", EPOCH_OPTIONS),\n",
    "    \"batch_size\":      hp.choice(\"batch_size\", BATCH_OPTIONS),\n",
    "    \"use_focal_loss\":  hp.choice(\"use_focal_loss\", USE_FOCAL_OPTIONS),\n",
    "    \"gamma\":           hp.quniform(\"gamma\", 1.0, 5.0, 0.5),\n",
    "    \"label_smoothing\": hp.uniform(\"label_smoothing\", 0.0, 0.2)\n",
    "}\n",
    "\n",
    "MAX_EVALS = 30  \n",
    "EVAL_BATCH_SIZE = 8\n",
    "BEST_MODEL_METRIC = \"f1\"\n",
    "\n",
    "GLOVE_PATH = \"data\\\\glove.6B.300d.txt\"  \n",
    "EMBED_DIM = 300         \n",
    "HIDDEN_DIM = 256\n",
    "NUM_LAYERS = 2\n",
    "DROPOUT = 0.3           \n",
    "USE_ATTENTION = True  \n",
    "\n",
    "# Check GPU\n",
    "device = torch.device(\"cuda\" if torch.cuda.is_available() else \"cpu\")\n",
    "if TESTING_FLAG:\n",
    "    print(\"Using device:\", device)"
   ]
  },
  {
   "cell_type": "code",
   "execution_count": 16,
   "metadata": {
    "execution": {
     "iopub.execute_input": "2025-04-01T17:45:03.006576Z",
     "iopub.status.busy": "2025-04-01T17:45:03.005758Z",
     "iopub.status.idle": "2025-04-01T18:37:20.034394Z",
     "shell.execute_reply": "2025-04-01T18:37:20.033499Z",
     "shell.execute_reply.started": "2025-04-01T17:45:03.006551Z"
    }
   },
   "outputs": [
    {
     "name": "stdout",
     "output_type": "stream",
     "text": [
      "Downloaded NLTK data\n"
     ]
    },
    {
     "name": "stderr",
     "output_type": "stream",
     "text": [
      "[nltk_data] Downloading package wordnet to\n",
      "[nltk_data]     C:\\Users\\Backe\\AppData\\Roaming\\nltk_data...\n",
      "[nltk_data]   Package wordnet is already up-to-date!\n",
      "[nltk_data] Downloading package omw-1.4 to\n",
      "[nltk_data]     C:\\Users\\Backe\\AppData\\Roaming\\nltk_data...\n",
      "[nltk_data]   Package omw-1.4 is already up-to-date!\n"
     ]
    }
   ],
   "source": [
    "# ----------------------------------------------------------------------------\n",
    "# 1. Fetch NLTK data\n",
    "# ----------------------------------------------------------------------------\n",
    "if DOWNLOAD_FLAG:\n",
    "    nltk.download(\"wordnet\")\n",
    "    nltk.download(\"omw-1.4\")\n",
    "\n",
    "    #nltk.data.path.append(NLTK_DATA_DIR)\n",
    "    #nltk.download(\"wordnet\", download_dir=NLTK_DATA_DIR)\n",
    "    #nltk.download(\"omw-1.4\", download_dir=NLTK_DATA_DIR)\n",
    "    #!unzip /kaggle/working/nltk_data/corpora/omw-1.4.zip -d /kaggle/working/nltk_data/corpora/\n",
    "    #!unzip /kaggle/working/nltk_data/corpora/wordnet.zip -d /kaggle/working/nltk_data/corpora/\n",
    "    print(\"Downloaded NLTK data\")"
   ]
  },
  {
   "cell_type": "code",
   "execution_count": 17,
   "metadata": {
    "execution": {
     "iopub.execute_input": "2025-04-01T18:37:20.035832Z",
     "iopub.status.busy": "2025-04-01T18:37:20.035498Z",
     "iopub.status.idle": "2025-04-01T18:37:20.336769Z",
     "shell.execute_reply": "2025-04-01T18:37:20.335907Z",
     "shell.execute_reply.started": "2025-04-01T18:37:20.035806Z"
    }
   },
   "outputs": [
    {
     "name": "stdout",
     "output_type": "stream",
     "text": [
      "Train samples: 21508\n",
      "Dev samples: 5926\n",
      "Test samples: 4688\n"
     ]
    }
   ],
   "source": [
    "# ----------------------------------------------------------------------------\n",
    "# 2. Load Data\n",
    "# ----------------------------------------------------------------------------\n",
    "train_df = pd.read_csv(TRAIN_PATH)\n",
    "dev_df   = pd.read_csv(DEV_PATH)\n",
    "test_df  = pd.read_csv(TEST_PATH)\n",
    "\n",
    "train_df.rename(columns={\"Claim\": \"claim\", \"Evidence\": \"evidence\"}, inplace=True)\n",
    "dev_df.rename(columns={\"Claim\": \"claim\", \"Evidence\": \"evidence\"}, inplace=True)\n",
    "test_df.rename(columns={\"Claim\": \"claim\", \"Evidence\": \"evidence\"}, inplace=True)\n",
    "\n",
    "if TESTING_FLAG:\n",
    "    print(\"Train samples:\", len(train_df))\n",
    "    print(\"Dev samples:\", len(dev_df))\n",
    "    print(\"Test samples:\", len(test_df))\n",
    "\n",
    "train_df[\"label\"] = train_df[\"label\"].astype(int)\n",
    "dev_df[\"label\"]   = dev_df[\"label\"].astype(int)\n"
   ]
  },
  {
   "cell_type": "code",
   "execution_count": 4,
   "metadata": {
    "execution": {
     "iopub.execute_input": "2025-04-01T18:37:20.339215Z",
     "iopub.status.busy": "2025-04-01T18:37:20.338987Z",
     "iopub.status.idle": "2025-04-01T18:37:23.600658Z",
     "shell.execute_reply": "2025-04-01T18:37:23.599880Z",
     "shell.execute_reply.started": "2025-04-01T18:37:20.339194Z"
    }
   },
   "outputs": [
    {
     "name": "stdout",
     "output_type": "stream",
     "text": [
      "Original train size: 21508 => After augmentation: 24819\n"
     ]
    }
   ],
   "source": [
    "# ----------------------------------------------------------------------------\n",
    "# 3. Data Augmentation (Synonym Replacement)\n",
    "# ----------------------------------------------------------------------------\n",
    "random.seed(42)\n",
    "\n",
    "def synonym_replacement(sentence, n=1):\n",
    "    words = sentence.split()\n",
    "    if len(words) < 2:\n",
    "        return sentence\n",
    "    indices_to_replace = random.sample(range(len(words)), k=min(n, len(words)))\n",
    "    new_words = words[:]\n",
    "    for i in indices_to_replace:\n",
    "        word = words[i]\n",
    "        syns = wordnet.synsets(word)\n",
    "        if not syns:\n",
    "            continue\n",
    "        lemmas = syns[0].lemma_names()\n",
    "        lemmas = [l for l in lemmas if l.lower() != word.lower()]\n",
    "        if len(lemmas) == 0:\n",
    "            continue\n",
    "        new_words[i] = random.choice(lemmas)\n",
    "    return \" \".join(new_words)\n",
    "\n",
    "def augment_dataframe(df):\n",
    "    augmented_rows = []\n",
    "    for _, row in df.iterrows():\n",
    "        augmented_rows.append(row.to_dict())\n",
    "        if random.random() < AUGMENTED_COPY_CHANCE:\n",
    "            new_row = row.copy()\n",
    "            if random.random() < 0.5:\n",
    "                new_row[\"claim\"] = synonym_replacement(row[\"claim\"], n=1)\n",
    "            else:\n",
    "                new_row[\"evidence\"] = synonym_replacement(row[\"evidence\"], n=1)\n",
    "            augmented_rows.append(new_row.to_dict())\n",
    "    return pd.DataFrame(augmented_rows)\n",
    "\n",
    "augmented_train_df = augment_dataframe(train_df)\n",
    "if TESTING_FLAG:\n",
    "    print(\"Original train size:\", len(train_df),\n",
    "          \"=> After augmentation:\", len(augmented_train_df))\n",
    "\n",
    "train_df = augmented_train_df.reset_index(drop=True)"
   ]
  },
  {
   "cell_type": "code",
   "execution_count": 18,
   "metadata": {
    "execution": {
     "iopub.execute_input": "2025-04-01T18:37:23.602490Z",
     "iopub.status.busy": "2025-04-01T18:37:23.602190Z",
     "iopub.status.idle": "2025-04-01T18:37:23.723215Z",
     "shell.execute_reply": "2025-04-01T18:37:23.722511Z",
     "shell.execute_reply.started": "2025-04-01T18:37:23.602466Z"
    }
   },
   "outputs": [
    {
     "name": "stdout",
     "output_type": "stream",
     "text": [
      "DatasetDict({\n",
      "    train: Dataset({\n",
      "        features: ['claim', 'evidence', 'label'],\n",
      "        num_rows: 21508\n",
      "    })\n",
      "    dev: Dataset({\n",
      "        features: ['claim', 'evidence', 'label'],\n",
      "        num_rows: 5926\n",
      "    })\n",
      "    test: Dataset({\n",
      "        features: ['claim', 'evidence'],\n",
      "        num_rows: 4688\n",
      "    })\n",
      "})\n"
     ]
    }
   ],
   "source": [
    "# ----------------------------------------------------------------------------\n",
    "# 4. Create Hugging Face Datasets\n",
    "# ----------------------------------------------------------------------------\n",
    "train_dataset = Dataset.from_pandas(train_df)\n",
    "dev_dataset   = Dataset.from_pandas(dev_df)\n",
    "test_dataset  = Dataset.from_pandas(test_df)\n",
    "\n",
    "dataset_dict = DatasetDict({\n",
    "    \"train\": train_dataset,\n",
    "    \"dev\":   dev_dataset,\n",
    "    \"test\":  test_dataset\n",
    "})\n",
    "\n",
    "if TESTING_FLAG:\n",
    "    print(dataset_dict)"
   ]
  },
  {
   "cell_type": "code",
   "execution_count": 19,
   "metadata": {
    "execution": {
     "iopub.execute_input": "2025-04-01T18:37:23.724235Z",
     "iopub.status.busy": "2025-04-01T18:37:23.724033Z",
     "iopub.status.idle": "2025-04-01T18:37:33.660871Z",
     "shell.execute_reply": "2025-04-01T18:37:33.659994Z",
     "shell.execute_reply.started": "2025-04-01T18:37:23.724217Z"
    }
   },
   "outputs": [
    {
     "data": {
      "application/vnd.jupyter.widget-view+json": {
       "model_id": "8daab2b409b348bdadab90717f60efeb",
       "version_major": 2,
       "version_minor": 0
      },
      "text/plain": [
       "Map:   0%|          | 0/21508 [00:00<?, ? examples/s]"
      ]
     },
     "metadata": {},
     "output_type": "display_data"
    },
    {
     "data": {
      "application/vnd.jupyter.widget-view+json": {
       "model_id": "f4543f3ac4c544bab8cfa39efe64a2d6",
       "version_major": 2,
       "version_minor": 0
      },
      "text/plain": [
       "Map:   0%|          | 0/5926 [00:00<?, ? examples/s]"
      ]
     },
     "metadata": {},
     "output_type": "display_data"
    },
    {
     "data": {
      "application/vnd.jupyter.widget-view+json": {
       "model_id": "9199237a722046878d9e00327469294f",
       "version_major": 2,
       "version_minor": 0
      },
      "text/plain": [
       "Map:   0%|          | 0/4688 [00:00<?, ? examples/s]"
      ]
     },
     "metadata": {},
     "output_type": "display_data"
    }
   ],
   "source": [
    "# ----------------------------------------------------------------------------\n",
    "# 5. Tokenization\n",
    "# ----------------------------------------------------------------------------\n",
    "\n",
    "TOKENIZER_NAME = \"bert-base-uncased\"\n",
    "tokenizer = AutoTokenizer.from_pretrained(TOKENIZER_NAME)\n",
    "\n",
    "def tokenize_function(examples):\n",
    "    return tokenizer(\n",
    "        examples[\"claim\"],\n",
    "        examples[\"evidence\"],\n",
    "        truncation=True,\n",
    "        padding=\"max_length\",\n",
    "        max_length=128\n",
    "    )\n",
    "\n",
    "encoded_dataset = dataset_dict.map(tokenize_function, batched=True)"
   ]
  },
  {
   "cell_type": "code",
   "execution_count": 20,
   "metadata": {
    "execution": {
     "iopub.execute_input": "2025-04-01T18:37:33.662050Z",
     "iopub.status.busy": "2025-04-01T18:37:33.661785Z",
     "iopub.status.idle": "2025-04-01T18:37:33.674074Z",
     "shell.execute_reply": "2025-04-01T18:37:33.673443Z",
     "shell.execute_reply.started": "2025-04-01T18:37:33.662016Z"
    }
   },
   "outputs": [],
   "source": [
    "# ----------------------------------------------------------------------------\n",
    "# 5.1. Format for PyTorch\n",
    "# ----------------------------------------------------------------------------\n",
    "encoded_dataset[\"train\"] = encoded_dataset[\"train\"].rename_column(\"label\", \"labels\")\n",
    "encoded_dataset[\"dev\"]   = encoded_dataset[\"dev\"].rename_column(\"label\", \"labels\")\n",
    "\n",
    "encoded_dataset[\"train\"] = encoded_dataset[\"train\"].remove_columns([\"claim\", \"evidence\"])\n",
    "encoded_dataset[\"dev\"]   = encoded_dataset[\"dev\"].remove_columns([\"claim\", \"evidence\"])\n",
    "encoded_dataset[\"test\"]  = encoded_dataset[\"test\"].remove_columns([\"claim\", \"evidence\"])\n",
    "\n",
    "encoded_dataset[\"train\"].set_format(\"torch\")\n",
    "encoded_dataset[\"dev\"].set_format(\"torch\")\n",
    "encoded_dataset[\"test\"].set_format(\"torch\")"
   ]
  },
  {
   "cell_type": "code",
   "execution_count": 21,
   "metadata": {
    "execution": {
     "iopub.execute_input": "2025-04-01T18:37:33.675178Z",
     "iopub.status.busy": "2025-04-01T18:37:33.674972Z",
     "iopub.status.idle": "2025-04-01T18:37:34.016712Z",
     "shell.execute_reply": "2025-04-01T18:37:34.015818Z",
     "shell.execute_reply.started": "2025-04-01T18:37:33.675160Z"
    }
   },
   "outputs": [
    {
     "name": "stdout",
     "output_type": "stream",
     "text": [
      "Loading GloVe from data\\glove.6B.300d.txt...\n",
      "Initialized embedding_matrix with 26695 GloVe tokens matched out of 30522\n"
     ]
    }
   ],
   "source": [
    "# ----------------------------------------------------------------------------\n",
    "# 6. Load GloVe embeddings & Build an Embedding Matrix\n",
    "# ----------------------------------------------------------------------------\n",
    "def load_glove_embeddings(glove_file, vocab, embedding_dim=300):\n",
    "    \"\"\"\n",
    "    Load GloVe 300d vectors and align them with the given vocab.\n",
    "    vocab: a dict {token_string: token_index}\n",
    "    Returns: a numpy array [vocab_size, embedding_dim]\n",
    "    \"\"\"\n",
    "    embedding_matrix = np.random.normal(\n",
    "        scale=0.1, \n",
    "        size=(len(vocab), embedding_dim)\n",
    "    ).astype(np.float32)\n",
    "    found = 0\n",
    "\n",
    "    if not os.path.isfile(glove_file):\n",
    "        print(f\"GloVe file not found at {glove_file}, using random init.\")\n",
    "        return embedding_matrix, found\n",
    "\n",
    "    print(f\"Loading GloVe from {glove_file}...\")\n",
    "    glove_dict = {}\n",
    "    with open(glove_file, \"r\", encoding=\"utf-8\") as f:\n",
    "        for line in f:\n",
    "            values = line.split()\n",
    "            if len(values) != embedding_dim + 1:\n",
    "                continue\n",
    "            word = values[0]\n",
    "            coefs = np.asarray(values[1:], dtype=\"float32\")\n",
    "            glove_dict[word] = coefs\n",
    "\n",
    "    # For each token in the BERT-based vocab, see if it matches a GloVe word\n",
    "    for token, idx in vocab.items():\n",
    "        normalized = token.replace(\"##\", \"\").lower()\n",
    "        if normalized in glove_dict:\n",
    "            embedding_matrix[idx] = glove_dict[normalized]\n",
    "            found += 1\n",
    "\n",
    "    print(f\"Initialized embedding_matrix with {found} GloVe tokens matched out of {len(vocab)}\")\n",
    "    return embedding_matrix, found\n",
    "\n",
    "vocab_dict = tokenizer.get_vocab()  # {token_str: token_id}\n",
    "embedding_matrix_np, glove_found = load_glove_embeddings(GLOVE_PATH, vocab_dict, EMBED_DIM)\n",
    "embedding_matrix_tensor = torch.tensor(embedding_matrix_np)"
   ]
  },
  {
   "cell_type": "code",
   "execution_count": 9,
   "metadata": {
    "execution": {
     "iopub.execute_input": "2025-04-01T18:37:34.017986Z",
     "iopub.status.busy": "2025-04-01T18:37:34.017647Z",
     "iopub.status.idle": "2025-04-01T18:37:34.030585Z",
     "shell.execute_reply": "2025-04-01T18:37:34.029921Z",
     "shell.execute_reply.started": "2025-04-01T18:37:34.017954Z"
    }
   },
   "outputs": [],
   "source": [
    "# ----------------------------------------------------------------------------\n",
    "# 7. Custom BiLSTM with optional attention\n",
    "# ----------------------------------------------------------------------------\n",
    "class SimpleAttention(nn.Module):\n",
    "    \"\"\"\n",
    "    A simple additive attention: \n",
    "    score = tanh(W1*H + W2*h_context), \n",
    "    then softmax over time steps, \n",
    "    output = sum of weighted hidden states\n",
    "    \"\"\"\n",
    "    def __init__(self, hidden_dim):\n",
    "        super().__init__()\n",
    "        self.hidden_dim = hidden_dim\n",
    "\n",
    "        self.W = nn.Linear(2 * hidden_dim, 2 * hidden_dim)\n",
    "        self.v = nn.Linear(2 * hidden_dim, 1, bias=False)\n",
    "\n",
    "    def forward(self, lstm_outputs, mask=None):\n",
    "        \"\"\"\n",
    "        lstm_outputs: (B, L, 2*hidden_dim)\n",
    "        mask: (B, L) if needed (1 for real tokens, 0 for pad)\n",
    "        Returns: (B, 2*hidden_dim) - the weighted sum\n",
    "        \"\"\"\n",
    "        # Score calculation\n",
    "        score = torch.tanh(self.W(lstm_outputs))  # (B, L, 2H)\n",
    "        score = self.v(score).squeeze(-1)         # (B, L)\n",
    "        \n",
    "        if mask is not None:\n",
    "            score = score.masked_fill(mask == 0, -1e9)\n",
    "\n",
    "        attn_weights = F.softmax(score, dim=-1)   # (B, L)\n",
    "\n",
    "        # Weighted sum\n",
    "        attn_weights = attn_weights.unsqueeze(1)  # (B, 1, L)\n",
    "        context = torch.bmm(attn_weights, lstm_outputs)  # (B, 1, 2H)\n",
    "        context = context.squeeze(1)              # (B, 2H)\n",
    "\n",
    "        return context\n",
    "\n",
    "\n",
    "class CustomBiLSTMModel(nn.Module):\n",
    "    def __init__(self, \n",
    "                 vocab_size, \n",
    "                 embed_dim=300, \n",
    "                 hidden_dim=256, \n",
    "                 num_labels=2, \n",
    "                 num_layers=2,\n",
    "                 dropout=0.3,\n",
    "                 use_attention=True,\n",
    "                 use_focal_loss=False, \n",
    "                 gamma=2.0, \n",
    "                 label_smoothing=0.0,\n",
    "                 embedding_matrix=None):\n",
    "        super().__init__()\n",
    "        self.vocab_size = vocab_size\n",
    "        self.embed_dim = embed_dim\n",
    "        self.hidden_dim = hidden_dim\n",
    "        self.num_layers = num_layers\n",
    "        self.dropout = dropout\n",
    "        self.num_labels = num_labels\n",
    "        \n",
    "        self.use_attention = use_attention\n",
    "        self.use_focal_loss = use_focal_loss\n",
    "        self.gamma = gamma\n",
    "        self.label_smoothing = label_smoothing\n",
    "\n",
    "        # Embedding layer\n",
    "        self.embedding = nn.Embedding(self.vocab_size, self.embed_dim, padding_idx=0)\n",
    "        if embedding_matrix is not None:\n",
    "            with torch.no_grad():\n",
    "                self.embedding.weight.copy_(embedding_matrix)\n",
    "\n",
    "        # BiLSTM with multiple layers & dropout\n",
    "        self.lstm = nn.LSTM(\n",
    "            input_size=self.embed_dim,\n",
    "            hidden_size=self.hidden_dim,\n",
    "            num_layers=self.num_layers,\n",
    "            dropout=self.dropout,\n",
    "            batch_first=True,\n",
    "            bidirectional=True\n",
    "        )\n",
    "\n",
    "        # Optional attention\n",
    "        if self.use_attention:\n",
    "            self.attn = SimpleAttention(self.hidden_dim)\n",
    "\n",
    "        # Classification head\n",
    "        self.classifier = nn.Linear(2 * self.hidden_dim, self.num_labels)\n",
    "\n",
    "    def forward(self, input_ids=None, attention_mask=None, labels=None, **kwargs):\n",
    "        # Embeddings\n",
    "        embeds = self.embedding(input_ids)\n",
    "        # zero out padding\n",
    "        if attention_mask is not None:\n",
    "            expand_mask = attention_mask.unsqueeze(-1).float()\n",
    "            embeds = embeds * expand_mask\n",
    "        \n",
    "        # LSTM\n",
    "        lstm_outputs, (h, c) = self.lstm(embeds)\n",
    "        # shape of lstm_outputs: (B, L, 2H)\n",
    "\n",
    "        if self.use_attention:\n",
    "            # Weighted sum of outputs\n",
    "            context = self.attn(lstm_outputs, mask=attention_mask)\n",
    "        else:\n",
    "            # h shape: (num_layers*2, B, H)\n",
    "            h_forward = h[-2]  # last layer's forward state\n",
    "            h_backward = h[-1] # last layer's backward state\n",
    "            context = torch.cat((h_forward, h_backward), dim=-1)  # (B, 2H)\n",
    "\n",
    "        logits = self.classifier(context)\n",
    "\n",
    "        # Loss\n",
    "        loss = None\n",
    "        if labels is not None:\n",
    "            if self.use_focal_loss:\n",
    "                loss = self.focal_loss(logits, labels, self.gamma)\n",
    "            else:\n",
    "                loss = self.label_smoothing_loss(logits, labels, self.label_smoothing)\n",
    "\n",
    "        return {\"loss\": loss, \"logits\": logits}\n",
    "\n",
    "    def focal_loss(self, logits, targets, gamma=2.0):\n",
    "        ce = nn.CrossEntropyLoss(reduction='none')(logits, targets)\n",
    "        pt = torch.exp(-ce)\n",
    "        focal = (1 - pt)**gamma * ce\n",
    "        return focal.mean()\n",
    "\n",
    "    def label_smoothing_loss(self, logits, targets, smoothing=0.0):\n",
    "        if smoothing == 0.0:\n",
    "            return nn.CrossEntropyLoss()(logits, targets)\n",
    "        log_probs = F.log_softmax(logits, dim=-1)\n",
    "        n_class = logits.size(1)\n",
    "        with torch.no_grad():\n",
    "            true_dist = torch.zeros_like(log_probs)\n",
    "            true_dist.fill_(smoothing / (n_class - 1))\n",
    "            true_dist.scatter_(1, targets.unsqueeze(1), 1.0 - smoothing)\n",
    "        return torch.mean(torch.sum(-true_dist * log_probs, dim=1))\n"
   ]
  },
  {
   "cell_type": "code",
   "execution_count": null,
   "metadata": {
    "execution": {
     "iopub.execute_input": "2025-04-01T18:37:34.031558Z",
     "iopub.status.busy": "2025-04-01T18:37:34.031361Z",
     "iopub.status.idle": "2025-04-01T21:12:52.343743Z",
     "shell.execute_reply": "2025-04-01T21:12:52.343084Z",
     "shell.execute_reply.started": "2025-04-01T18:37:34.031541Z"
    }
   },
   "outputs": [
    {
     "name": "stdout",
     "output_type": "stream",
     "text": [
      "  0%|          | 0/30 [00:00<?, ?trial/s, best loss=?]"
     ]
    },
    {
     "data": {
      "text/html": [
       "\n",
       "    <div>\n",
       "      \n",
       "      <progress value='6206' max='6206' style='width:300px; height:20px; vertical-align: middle;'></progress>\n",
       "      [6206/6206 05:19, Epoch 2/2]\n",
       "    </div>\n",
       "    <table border=\"1\" class=\"dataframe\">\n",
       "  <thead>\n",
       " <tr style=\"text-align: left;\">\n",
       "      <th>Epoch</th>\n",
       "      <th>Training Loss</th>\n",
       "      <th>Validation Loss</th>\n",
       "      <th>F1</th>\n",
       "      <th>Accuracy</th>\n",
       "    </tr>\n",
       "  </thead>\n",
       "  <tbody>\n",
       "    <tr>\n",
       "      <td>1</td>\n",
       "      <td>0.521100</td>\n",
       "      <td>0.497177</td>\n",
       "      <td>0.806420</td>\n",
       "      <td>0.807796</td>\n",
       "    </tr>\n",
       "    <tr>\n",
       "      <td>2</td>\n",
       "      <td>0.450100</td>\n",
       "      <td>0.484111</td>\n",
       "      <td>0.810339</td>\n",
       "      <td>0.818090</td>\n",
       "    </tr>\n",
       "  </tbody>\n",
       "</table><p>"
      ],
      "text/plain": [
       "<IPython.core.display.HTML object>"
      ]
     },
     "metadata": {},
     "output_type": "display_data"
    },
    {
     "data": {
      "text/html": [
       "\n",
       "    <div>\n",
       "      \n",
       "      <progress value='741' max='741' style='width:300px; height:20px; vertical-align: middle;'></progress>\n",
       "      [741/741 00:13]\n",
       "    </div>\n",
       "    "
      ],
      "text/plain": [
       "<IPython.core.display.HTML object>"
      ]
     },
     "metadata": {},
     "output_type": "display_data"
    },
    {
     "name": "stdout",
     "output_type": "stream",
     "text": [
      "[Hyperopt] params={'batch_size': 8, 'epochs': 2, 'gamma': 4.5, 'label_smoothing': 0.06392098697401234, 'learning_rate': 0.00020857096123170536, 'use_focal_loss': False} => F1=0.8103\n",
      "  3%|▎         | 1/30 [05:35<2:41:55, 335.00s/trial, best loss: -0.8103394600055884]"
     ]
    },
    {
     "data": {
      "text/html": [
       "\n",
       "    <div>\n",
       "      \n",
       "      <progress value='3104' max='3104' style='width:300px; height:20px; vertical-align: middle;'></progress>\n",
       "      [3104/3104 02:38, Epoch 2/2]\n",
       "    </div>\n",
       "    <table border=\"1\" class=\"dataframe\">\n",
       "  <thead>\n",
       " <tr style=\"text-align: left;\">\n",
       "      <th>Epoch</th>\n",
       "      <th>Training Loss</th>\n",
       "      <th>Validation Loss</th>\n",
       "      <th>F1</th>\n",
       "      <th>Accuracy</th>\n",
       "    </tr>\n",
       "  </thead>\n",
       "  <tbody>\n",
       "    <tr>\n",
       "      <td>1</td>\n",
       "      <td>0.626600</td>\n",
       "      <td>0.618419</td>\n",
       "      <td>0.751597</td>\n",
       "      <td>0.772865</td>\n",
       "    </tr>\n",
       "    <tr>\n",
       "      <td>2</td>\n",
       "      <td>0.608600</td>\n",
       "      <td>0.614701</td>\n",
       "      <td>0.759518</td>\n",
       "      <td>0.778772</td>\n",
       "    </tr>\n",
       "  </tbody>\n",
       "</table><p>"
      ],
      "text/plain": [
       "<IPython.core.display.HTML object>"
      ]
     },
     "metadata": {},
     "output_type": "display_data"
    },
    {
     "data": {
      "text/html": [
       "\n",
       "    <div>\n",
       "      \n",
       "      <progress value='741' max='741' style='width:300px; height:20px; vertical-align: middle;'></progress>\n",
       "      [741/741 00:11]\n",
       "    </div>\n",
       "    "
      ],
      "text/plain": [
       "<IPython.core.display.HTML object>"
      ]
     },
     "metadata": {},
     "output_type": "display_data"
    },
    {
     "name": "stdout",
     "output_type": "stream",
     "text": [
      "[Hyperopt] params={'batch_size': 16, 'epochs': 2, 'gamma': 4.0, 'label_smoothing': 0.1954384983310935, 'learning_rate': 5.449434198791054e-05, 'use_focal_loss': False} => F1=0.7595\n",
      "  7%|▋         | 2/30 [08:25<1:51:17, 238.49s/trial, best loss: -0.8103394600055884]"
     ]
    },
    {
     "data": {
      "text/html": [
       "\n",
       "    <div>\n",
       "      \n",
       "      <progress value='3104' max='3104' style='width:300px; height:20px; vertical-align: middle;'></progress>\n",
       "      [3104/3104 02:42, Epoch 2/2]\n",
       "    </div>\n",
       "    <table border=\"1\" class=\"dataframe\">\n",
       "  <thead>\n",
       " <tr style=\"text-align: left;\">\n",
       "      <th>Epoch</th>\n",
       "      <th>Training Loss</th>\n",
       "      <th>Validation Loss</th>\n",
       "      <th>F1</th>\n",
       "      <th>Accuracy</th>\n",
       "    </tr>\n",
       "  </thead>\n",
       "  <tbody>\n",
       "    <tr>\n",
       "      <td>1</td>\n",
       "      <td>0.572000</td>\n",
       "      <td>0.555875</td>\n",
       "      <td>0.739126</td>\n",
       "      <td>0.764597</td>\n",
       "    </tr>\n",
       "    <tr>\n",
       "      <td>2</td>\n",
       "      <td>0.537200</td>\n",
       "      <td>0.548552</td>\n",
       "      <td>0.756408</td>\n",
       "      <td>0.773372</td>\n",
       "    </tr>\n",
       "  </tbody>\n",
       "</table><p>"
      ],
      "text/plain": [
       "<IPython.core.display.HTML object>"
      ]
     },
     "metadata": {},
     "output_type": "display_data"
    },
    {
     "data": {
      "text/html": [
       "\n",
       "    <div>\n",
       "      \n",
       "      <progress value='741' max='741' style='width:300px; height:20px; vertical-align: middle;'></progress>\n",
       "      [741/741 00:11]\n",
       "    </div>\n",
       "    "
      ],
      "text/plain": [
       "<IPython.core.display.HTML object>"
      ]
     },
     "metadata": {},
     "output_type": "display_data"
    },
    {
     "name": "stdout",
     "output_type": "stream",
     "text": [
      "[Hyperopt] params={'batch_size': 16, 'epochs': 2, 'gamma': 3.0, 'label_smoothing': 0.08665120467202699, 'learning_rate': 3.816967738971289e-05, 'use_focal_loss': False} => F1=0.7564\n",
      " 10%|█         | 3/30 [11:21<1:34:21, 209.67s/trial, best loss: -0.8103394600055884]"
     ]
    },
    {
     "data": {
      "text/html": [
       "\n",
       "    <div>\n",
       "      \n",
       "      <progress value='12410' max='12410' style='width:300px; height:20px; vertical-align: middle;'></progress>\n",
       "      [12410/12410 10:51, Epoch 2/2]\n",
       "    </div>\n",
       "    <table border=\"1\" class=\"dataframe\">\n",
       "  <thead>\n",
       " <tr style=\"text-align: left;\">\n",
       "      <th>Epoch</th>\n",
       "      <th>Training Loss</th>\n",
       "      <th>Validation Loss</th>\n",
       "      <th>F1</th>\n",
       "      <th>Accuracy</th>\n",
       "    </tr>\n",
       "  </thead>\n",
       "  <tbody>\n",
       "    <tr>\n",
       "      <td>1</td>\n",
       "      <td>0.041800</td>\n",
       "      <td>0.038687</td>\n",
       "      <td>0.804683</td>\n",
       "      <td>0.808977</td>\n",
       "    </tr>\n",
       "    <tr>\n",
       "      <td>2</td>\n",
       "      <td>0.033600</td>\n",
       "      <td>0.039111</td>\n",
       "      <td>0.805381</td>\n",
       "      <td>0.812690</td>\n",
       "    </tr>\n",
       "  </tbody>\n",
       "</table><p>"
      ],
      "text/plain": [
       "<IPython.core.display.HTML object>"
      ]
     },
     "metadata": {},
     "output_type": "display_data"
    },
    {
     "data": {
      "text/html": [
       "\n",
       "    <div>\n",
       "      \n",
       "      <progress value='741' max='741' style='width:300px; height:20px; vertical-align: middle;'></progress>\n",
       "      [741/741 00:12]\n",
       "    </div>\n",
       "    "
      ],
      "text/plain": [
       "<IPython.core.display.HTML object>"
      ]
     },
     "metadata": {},
     "output_type": "display_data"
    },
    {
     "name": "stdout",
     "output_type": "stream",
     "text": [
      "[Hyperopt] params={'batch_size': 4, 'epochs': 2, 'gamma': 3.5, 'label_smoothing': 0.14445499145021085, 'learning_rate': 0.00011189466523847213, 'use_focal_loss': True} => F1=0.8054\n",
      " 13%|█▎        | 4/30 [22:25<2:48:36, 389.11s/trial, best loss: -0.8103394600055884]"
     ]
    },
    {
     "data": {
      "text/html": [
       "\n",
       "    <div>\n",
       "      \n",
       "      <progress value='9309' max='9309' style='width:300px; height:20px; vertical-align: middle;'></progress>\n",
       "      [9309/9309 07:43, Epoch 3/3]\n",
       "    </div>\n",
       "    <table border=\"1\" class=\"dataframe\">\n",
       "  <thead>\n",
       " <tr style=\"text-align: left;\">\n",
       "      <th>Epoch</th>\n",
       "      <th>Training Loss</th>\n",
       "      <th>Validation Loss</th>\n",
       "      <th>F1</th>\n",
       "      <th>Accuracy</th>\n",
       "    </tr>\n",
       "  </thead>\n",
       "  <tbody>\n",
       "    <tr>\n",
       "      <td>1</td>\n",
       "      <td>0.577300</td>\n",
       "      <td>0.561319</td>\n",
       "      <td>0.740880</td>\n",
       "      <td>0.762403</td>\n",
       "    </tr>\n",
       "    <tr>\n",
       "      <td>2</td>\n",
       "      <td>0.543900</td>\n",
       "      <td>0.550131</td>\n",
       "      <td>0.763829</td>\n",
       "      <td>0.775059</td>\n",
       "    </tr>\n",
       "    <tr>\n",
       "      <td>3</td>\n",
       "      <td>0.533200</td>\n",
       "      <td>0.550317</td>\n",
       "      <td>0.762571</td>\n",
       "      <td>0.776578</td>\n",
       "    </tr>\n",
       "  </tbody>\n",
       "</table><p>"
      ],
      "text/plain": [
       "<IPython.core.display.HTML object>"
      ]
     },
     "metadata": {},
     "output_type": "display_data"
    },
    {
     "data": {
      "text/html": [
       "\n",
       "    <div>\n",
       "      \n",
       "      <progress value='741' max='741' style='width:300px; height:20px; vertical-align: middle;'></progress>\n",
       "      [741/741 00:13]\n",
       "    </div>\n",
       "    "
      ],
      "text/plain": [
       "<IPython.core.display.HTML object>"
      ]
     },
     "metadata": {},
     "output_type": "display_data"
    },
    {
     "name": "stdout",
     "output_type": "stream",
     "text": [
      "[Hyperopt] params={'batch_size': 8, 'epochs': 3, 'gamma': 2.5, 'label_smoothing': 0.08750774079475261, 'learning_rate': 1.9945242167268704e-05, 'use_focal_loss': False} => F1=0.7638\n",
      " 17%|█▋        | 5/30 [30:23<2:55:26, 421.07s/trial, best loss: -0.8103394600055884]"
     ]
    },
    {
     "data": {
      "text/html": [
       "\n",
       "    <div>\n",
       "      \n",
       "      <progress value='12410' max='12410' style='width:300px; height:20px; vertical-align: middle;'></progress>\n",
       "      [12410/12410 10:46, Epoch 2/2]\n",
       "    </div>\n",
       "    <table border=\"1\" class=\"dataframe\">\n",
       "  <thead>\n",
       " <tr style=\"text-align: left;\">\n",
       "      <th>Epoch</th>\n",
       "      <th>Training Loss</th>\n",
       "      <th>Validation Loss</th>\n",
       "      <th>F1</th>\n",
       "      <th>Accuracy</th>\n",
       "    </tr>\n",
       "  </thead>\n",
       "  <tbody>\n",
       "    <tr>\n",
       "      <td>1</td>\n",
       "      <td>0.558400</td>\n",
       "      <td>0.542411</td>\n",
       "      <td>0.792209</td>\n",
       "      <td>0.800540</td>\n",
       "    </tr>\n",
       "    <tr>\n",
       "      <td>2</td>\n",
       "      <td>0.515400</td>\n",
       "      <td>0.540737</td>\n",
       "      <td>0.801167</td>\n",
       "      <td>0.809652</td>\n",
       "    </tr>\n",
       "  </tbody>\n",
       "</table><p>"
      ],
      "text/plain": [
       "<IPython.core.display.HTML object>"
      ]
     },
     "metadata": {},
     "output_type": "display_data"
    },
    {
     "data": {
      "text/html": [
       "\n",
       "    <div>\n",
       "      \n",
       "      <progress value='741' max='741' style='width:300px; height:20px; vertical-align: middle;'></progress>\n",
       "      [741/741 00:13]\n",
       "    </div>\n",
       "    "
      ],
      "text/plain": [
       "<IPython.core.display.HTML object>"
      ]
     },
     "metadata": {},
     "output_type": "display_data"
    },
    {
     "name": "stdout",
     "output_type": "stream",
     "text": [
      "[Hyperopt] params={'batch_size': 4, 'epochs': 2, 'gamma': 2.0, 'label_smoothing': 0.10200875271699716, 'learning_rate': 0.00010992192923440694, 'use_focal_loss': False} => F1=0.8012\n",
      " 20%|██        | 6/30 [41:24<3:21:04, 502.68s/trial, best loss: -0.8103394600055884]"
     ]
    },
    {
     "data": {
      "text/html": [
       "\n",
       "    <div>\n",
       "      \n",
       "      <progress value='9309' max='9309' style='width:300px; height:20px; vertical-align: middle;'></progress>\n",
       "      [9309/9309 08:09, Epoch 3/3]\n",
       "    </div>\n",
       "    <table border=\"1\" class=\"dataframe\">\n",
       "  <thead>\n",
       " <tr style=\"text-align: left;\">\n",
       "      <th>Epoch</th>\n",
       "      <th>Training Loss</th>\n",
       "      <th>Validation Loss</th>\n",
       "      <th>F1</th>\n",
       "      <th>Accuracy</th>\n",
       "    </tr>\n",
       "  </thead>\n",
       "  <tbody>\n",
       "    <tr>\n",
       "      <td>1</td>\n",
       "      <td>0.572100</td>\n",
       "      <td>0.555510</td>\n",
       "      <td>0.748867</td>\n",
       "      <td>0.765609</td>\n",
       "    </tr>\n",
       "    <tr>\n",
       "      <td>2</td>\n",
       "      <td>0.538000</td>\n",
       "      <td>0.545099</td>\n",
       "      <td>0.766996</td>\n",
       "      <td>0.776578</td>\n",
       "    </tr>\n",
       "    <tr>\n",
       "      <td>3</td>\n",
       "      <td>0.526300</td>\n",
       "      <td>0.545449</td>\n",
       "      <td>0.764789</td>\n",
       "      <td>0.778265</td>\n",
       "    </tr>\n",
       "  </tbody>\n",
       "</table><p>"
      ],
      "text/plain": [
       "<IPython.core.display.HTML object>"
      ]
     },
     "metadata": {},
     "output_type": "display_data"
    },
    {
     "data": {
      "text/html": [
       "\n",
       "    <div>\n",
       "      \n",
       "      <progress value='741' max='741' style='width:300px; height:20px; vertical-align: middle;'></progress>\n",
       "      [741/741 00:12]\n",
       "    </div>\n",
       "    "
      ],
      "text/plain": [
       "<IPython.core.display.HTML object>"
      ]
     },
     "metadata": {},
     "output_type": "display_data"
    },
    {
     "name": "stdout",
     "output_type": "stream",
     "text": [
      "[Hyperopt] params={'batch_size': 8, 'epochs': 3, 'gamma': 4.0, 'label_smoothing': 0.08542251144659163, 'learning_rate': 2.389183109952775e-05, 'use_focal_loss': False} => F1=0.7670\n",
      " 23%|██▎       | 7/30 [49:46<3:12:35, 502.41s/trial, best loss: -0.8103394600055884]"
     ]
    },
    {
     "data": {
      "text/html": [
       "\n",
       "    <div>\n",
       "      \n",
       "      <progress value='12412' max='12412' style='width:300px; height:20px; vertical-align: middle;'></progress>\n",
       "      [12412/12412 10:27, Epoch 4/4]\n",
       "    </div>\n",
       "    <table border=\"1\" class=\"dataframe\">\n",
       "  <thead>\n",
       " <tr style=\"text-align: left;\">\n",
       "      <th>Epoch</th>\n",
       "      <th>Training Loss</th>\n",
       "      <th>Validation Loss</th>\n",
       "      <th>F1</th>\n",
       "      <th>Accuracy</th>\n",
       "    </tr>\n",
       "  </thead>\n",
       "  <tbody>\n",
       "    <tr>\n",
       "      <td>1</td>\n",
       "      <td>0.591700</td>\n",
       "      <td>0.579953</td>\n",
       "      <td>0.806681</td>\n",
       "      <td>0.806446</td>\n",
       "    </tr>\n",
       "    <tr>\n",
       "      <td>2</td>\n",
       "      <td>0.542400</td>\n",
       "      <td>0.580635</td>\n",
       "      <td>0.806213</td>\n",
       "      <td>0.810496</td>\n",
       "    </tr>\n",
       "    <tr>\n",
       "      <td>3</td>\n",
       "      <td>0.509000</td>\n",
       "      <td>0.589938</td>\n",
       "      <td>0.812103</td>\n",
       "      <td>0.814209</td>\n",
       "    </tr>\n",
       "    <tr>\n",
       "      <td>4</td>\n",
       "      <td>0.486600</td>\n",
       "      <td>0.603767</td>\n",
       "      <td>0.810095</td>\n",
       "      <td>0.812184</td>\n",
       "    </tr>\n",
       "  </tbody>\n",
       "</table><p>"
      ],
      "text/plain": [
       "<IPython.core.display.HTML object>"
      ]
     },
     "metadata": {},
     "output_type": "display_data"
    },
    {
     "data": {
      "text/html": [
       "\n",
       "    <div>\n",
       "      \n",
       "      <progress value='741' max='741' style='width:300px; height:20px; vertical-align: middle;'></progress>\n",
       "      [741/741 00:13]\n",
       "    </div>\n",
       "    "
      ],
      "text/plain": [
       "<IPython.core.display.HTML object>"
      ]
     },
     "metadata": {},
     "output_type": "display_data"
    },
    {
     "name": "stdout",
     "output_type": "stream",
     "text": [
      "[Hyperopt] params={'batch_size': 8, 'epochs': 4, 'gamma': 3.0, 'label_smoothing': 0.16257473326682426, 'learning_rate': 0.0004932093839685862, 'use_focal_loss': False} => F1=0.8121\n",
      " 27%|██▋       | 8/30 [1:00:28<3:20:31, 546.90s/trial, best loss: -0.8121026714955556]"
     ]
    },
    {
     "data": {
      "text/html": [
       "\n",
       "    <div>\n",
       "      \n",
       "      <progress value='6206' max='6206' style='width:300px; height:20px; vertical-align: middle;'></progress>\n",
       "      [6206/6206 05:23, Epoch 2/2]\n",
       "    </div>\n",
       "    <table border=\"1\" class=\"dataframe\">\n",
       "  <thead>\n",
       " <tr style=\"text-align: left;\">\n",
       "      <th>Epoch</th>\n",
       "      <th>Training Loss</th>\n",
       "      <th>Validation Loss</th>\n",
       "      <th>F1</th>\n",
       "      <th>Accuracy</th>\n",
       "    </tr>\n",
       "  </thead>\n",
       "  <tbody>\n",
       "    <tr>\n",
       "      <td>1</td>\n",
       "      <td>0.090700</td>\n",
       "      <td>0.086409</td>\n",
       "      <td>0.742837</td>\n",
       "      <td>0.765103</td>\n",
       "    </tr>\n",
       "    <tr>\n",
       "      <td>2</td>\n",
       "      <td>0.082300</td>\n",
       "      <td>0.086207</td>\n",
       "      <td>0.757095</td>\n",
       "      <td>0.773540</td>\n",
       "    </tr>\n",
       "  </tbody>\n",
       "</table><p>"
      ],
      "text/plain": [
       "<IPython.core.display.HTML object>"
      ]
     },
     "metadata": {},
     "output_type": "display_data"
    },
    {
     "data": {
      "text/html": [
       "\n",
       "    <div>\n",
       "      \n",
       "      <progress value='741' max='741' style='width:300px; height:20px; vertical-align: middle;'></progress>\n",
       "      [741/741 00:13]\n",
       "    </div>\n",
       "    "
      ],
      "text/plain": [
       "<IPython.core.display.HTML object>"
      ]
     },
     "metadata": {},
     "output_type": "display_data"
    },
    {
     "name": "stdout",
     "output_type": "stream",
     "text": [
      "[Hyperopt] params={'batch_size': 8, 'epochs': 2, 'gamma': 2.5, 'label_smoothing': 0.04753131952028109, 'learning_rate': 2.5585753375851585e-05, 'use_focal_loss': True} => F1=0.7571\n",
      " 30%|███       | 9/30 [1:06:06<2:48:31, 481.50s/trial, best loss: -0.8121026714955556]"
     ]
    },
    {
     "data": {
      "text/html": [
       "\n",
       "    <div>\n",
       "      \n",
       "      <progress value='9309' max='9309' style='width:300px; height:20px; vertical-align: middle;'></progress>\n",
       "      [9309/9309 07:58, Epoch 3/3]\n",
       "    </div>\n",
       "    <table border=\"1\" class=\"dataframe\">\n",
       "  <thead>\n",
       " <tr style=\"text-align: left;\">\n",
       "      <th>Epoch</th>\n",
       "      <th>Training Loss</th>\n",
       "      <th>Validation Loss</th>\n",
       "      <th>F1</th>\n",
       "      <th>Accuracy</th>\n",
       "    </tr>\n",
       "  </thead>\n",
       "  <tbody>\n",
       "    <tr>\n",
       "      <td>1</td>\n",
       "      <td>0.476700</td>\n",
       "      <td>0.448695</td>\n",
       "      <td>0.802451</td>\n",
       "      <td>0.802902</td>\n",
       "    </tr>\n",
       "    <tr>\n",
       "      <td>2</td>\n",
       "      <td>0.380500</td>\n",
       "      <td>0.445500</td>\n",
       "      <td>0.804147</td>\n",
       "      <td>0.816234</td>\n",
       "    </tr>\n",
       "    <tr>\n",
       "      <td>3</td>\n",
       "      <td>0.321000</td>\n",
       "      <td>0.475751</td>\n",
       "      <td>0.810611</td>\n",
       "      <td>0.814884</td>\n",
       "    </tr>\n",
       "  </tbody>\n",
       "</table><p>"
      ],
      "text/plain": [
       "<IPython.core.display.HTML object>"
      ]
     },
     "metadata": {},
     "output_type": "display_data"
    },
    {
     "data": {
      "text/html": [
       "\n",
       "    <div>\n",
       "      \n",
       "      <progress value='741' max='741' style='width:300px; height:20px; vertical-align: middle;'></progress>\n",
       "      [741/741 00:14]\n",
       "    </div>\n",
       "    "
      ],
      "text/plain": [
       "<IPython.core.display.HTML object>"
      ]
     },
     "metadata": {},
     "output_type": "display_data"
    },
    {
     "name": "stdout",
     "output_type": "stream",
     "text": [
      "[Hyperopt] params={'batch_size': 8, 'epochs': 3, 'gamma': 3.5, 'label_smoothing': 0.01954907009651652, 'learning_rate': 0.0002614238971279913, 'use_focal_loss': False} => F1=0.8106\n",
      " 33%|███▎      | 10/30 [1:14:19<2:41:40, 485.04s/trial, best loss: -0.8121026714955556]"
     ]
    },
    {
     "data": {
      "text/html": [
       "\n",
       "    <div>\n",
       "      \n",
       "      <progress value='4656' max='4656' style='width:300px; height:20px; vertical-align: middle;'></progress>\n",
       "      [4656/4656 04:28, Epoch 3/3]\n",
       "    </div>\n",
       "    <table border=\"1\" class=\"dataframe\">\n",
       "  <thead>\n",
       " <tr style=\"text-align: left;\">\n",
       "      <th>Epoch</th>\n",
       "      <th>Training Loss</th>\n",
       "      <th>Validation Loss</th>\n",
       "      <th>F1</th>\n",
       "      <th>Accuracy</th>\n",
       "    </tr>\n",
       "  </thead>\n",
       "  <tbody>\n",
       "    <tr>\n",
       "      <td>1</td>\n",
       "      <td>0.045300</td>\n",
       "      <td>0.042784</td>\n",
       "      <td>0.756166</td>\n",
       "      <td>0.774890</td>\n",
       "    </tr>\n",
       "    <tr>\n",
       "      <td>2</td>\n",
       "      <td>0.040000</td>\n",
       "      <td>0.041055</td>\n",
       "      <td>0.778161</td>\n",
       "      <td>0.784509</td>\n",
       "    </tr>\n",
       "    <tr>\n",
       "      <td>3</td>\n",
       "      <td>0.037500</td>\n",
       "      <td>0.040834</td>\n",
       "      <td>0.783436</td>\n",
       "      <td>0.791596</td>\n",
       "    </tr>\n",
       "  </tbody>\n",
       "</table><p>"
      ],
      "text/plain": [
       "<IPython.core.display.HTML object>"
      ]
     },
     "metadata": {},
     "output_type": "display_data"
    },
    {
     "data": {
      "text/html": [
       "\n",
       "    <div>\n",
       "      \n",
       "      <progress value='741' max='741' style='width:300px; height:20px; vertical-align: middle;'></progress>\n",
       "      [741/741 00:14]\n",
       "    </div>\n",
       "    "
      ],
      "text/plain": [
       "<IPython.core.display.HTML object>"
      ]
     },
     "metadata": {},
     "output_type": "display_data"
    },
    {
     "name": "stdout",
     "output_type": "stream",
     "text": [
      "[Hyperopt] params={'batch_size': 16, 'epochs': 3, 'gamma': 3.5, 'label_smoothing': 0.1831003132753092, 'learning_rate': 4.7278271760243226e-05, 'use_focal_loss': True} => F1=0.7834\n",
      " 37%|███▋      | 11/30 [1:19:02<2:14:02, 423.31s/trial, best loss: -0.8121026714955556]"
     ]
    },
    {
     "data": {
      "text/html": [
       "\n",
       "    <div>\n",
       "      \n",
       "      <progress value='12410' max='12410' style='width:300px; height:20px; vertical-align: middle;'></progress>\n",
       "      [12410/12410 11:20, Epoch 2/2]\n",
       "    </div>\n",
       "    <table border=\"1\" class=\"dataframe\">\n",
       "  <thead>\n",
       " <tr style=\"text-align: left;\">\n",
       "      <th>Epoch</th>\n",
       "      <th>Training Loss</th>\n",
       "      <th>Validation Loss</th>\n",
       "      <th>F1</th>\n",
       "      <th>Accuracy</th>\n",
       "    </tr>\n",
       "  </thead>\n",
       "  <tbody>\n",
       "    <tr>\n",
       "      <td>1</td>\n",
       "      <td>0.538300</td>\n",
       "      <td>0.526108</td>\n",
       "      <td>0.780220</td>\n",
       "      <td>0.796321</td>\n",
       "    </tr>\n",
       "    <tr>\n",
       "      <td>2</td>\n",
       "      <td>0.491200</td>\n",
       "      <td>0.514374</td>\n",
       "      <td>0.792592</td>\n",
       "      <td>0.803409</td>\n",
       "    </tr>\n",
       "  </tbody>\n",
       "</table><p>"
      ],
      "text/plain": [
       "<IPython.core.display.HTML object>"
      ]
     },
     "metadata": {},
     "output_type": "display_data"
    },
    {
     "data": {
      "text/html": [
       "\n",
       "    <div>\n",
       "      \n",
       "      <progress value='741' max='741' style='width:300px; height:20px; vertical-align: middle;'></progress>\n",
       "      [741/741 00:13]\n",
       "    </div>\n",
       "    "
      ],
      "text/plain": [
       "<IPython.core.display.HTML object>"
      ]
     },
     "metadata": {},
     "output_type": "display_data"
    },
    {
     "name": "stdout",
     "output_type": "stream",
     "text": [
      "[Hyperopt] params={'batch_size': 4, 'epochs': 2, 'gamma': 5.0, 'label_smoothing': 0.05446724252893081, 'learning_rate': 6.446673760898945e-05, 'use_focal_loss': False} => F1=0.7926\n",
      " 40%|████      | 12/30 [1:30:37<2:31:47, 505.97s/trial, best loss: -0.8121026714955556]"
     ]
    },
    {
     "data": {
      "text/html": [
       "\n",
       "    <div>\n",
       "      \n",
       "      <progress value='12410' max='12410' style='width:300px; height:20px; vertical-align: middle;'></progress>\n",
       "      [12410/12410 11:27, Epoch 2/2]\n",
       "    </div>\n",
       "    <table border=\"1\" class=\"dataframe\">\n",
       "  <thead>\n",
       " <tr style=\"text-align: left;\">\n",
       "      <th>Epoch</th>\n",
       "      <th>Training Loss</th>\n",
       "      <th>Validation Loss</th>\n",
       "      <th>F1</th>\n",
       "      <th>Accuracy</th>\n",
       "    </tr>\n",
       "  </thead>\n",
       "  <tbody>\n",
       "    <tr>\n",
       "      <td>1</td>\n",
       "      <td>0.041900</td>\n",
       "      <td>0.038670</td>\n",
       "      <td>0.804083</td>\n",
       "      <td>0.808302</td>\n",
       "    </tr>\n",
       "    <tr>\n",
       "      <td>2</td>\n",
       "      <td>0.033700</td>\n",
       "      <td>0.039162</td>\n",
       "      <td>0.804778</td>\n",
       "      <td>0.812184</td>\n",
       "    </tr>\n",
       "  </tbody>\n",
       "</table><p>"
      ],
      "text/plain": [
       "<IPython.core.display.HTML object>"
      ]
     },
     "metadata": {},
     "output_type": "display_data"
    },
    {
     "data": {
      "text/html": [
       "\n",
       "    <div>\n",
       "      \n",
       "      <progress value='741' max='741' style='width:300px; height:20px; vertical-align: middle;'></progress>\n",
       "      [741/741 00:13]\n",
       "    </div>\n",
       "    "
      ],
      "text/plain": [
       "<IPython.core.display.HTML object>"
      ]
     },
     "metadata": {},
     "output_type": "display_data"
    },
    {
     "name": "stdout",
     "output_type": "stream",
     "text": [
      "[Hyperopt] params={'batch_size': 4, 'epochs': 2, 'gamma': 3.5, 'label_smoothing': 0.17985286002590628, 'learning_rate': 0.00010851171308179183, 'use_focal_loss': True} => F1=0.8048\n",
      " 43%|████▎     | 13/30 [1:42:19<2:40:12, 565.47s/trial, best loss: -0.8121026714955556]"
     ]
    },
    {
     "data": {
      "text/html": [
       "\n",
       "    <div>\n",
       "      \n",
       "      <progress value='9309' max='9309' style='width:300px; height:20px; vertical-align: middle;'></progress>\n",
       "      [9309/9309 08:02, Epoch 3/3]\n",
       "    </div>\n",
       "    <table border=\"1\" class=\"dataframe\">\n",
       "  <thead>\n",
       " <tr style=\"text-align: left;\">\n",
       "      <th>Epoch</th>\n",
       "      <th>Training Loss</th>\n",
       "      <th>Validation Loss</th>\n",
       "      <th>F1</th>\n",
       "      <th>Accuracy</th>\n",
       "    </tr>\n",
       "  </thead>\n",
       "  <tbody>\n",
       "    <tr>\n",
       "      <td>1</td>\n",
       "      <td>0.548400</td>\n",
       "      <td>0.541276</td>\n",
       "      <td>0.798044</td>\n",
       "      <td>0.801384</td>\n",
       "    </tr>\n",
       "    <tr>\n",
       "      <td>2</td>\n",
       "      <td>0.470200</td>\n",
       "      <td>0.530262</td>\n",
       "      <td>0.804229</td>\n",
       "      <td>0.817921</td>\n",
       "    </tr>\n",
       "    <tr>\n",
       "      <td>3</td>\n",
       "      <td>0.420800</td>\n",
       "      <td>0.546795</td>\n",
       "      <td>0.812456</td>\n",
       "      <td>0.815052</td>\n",
       "    </tr>\n",
       "  </tbody>\n",
       "</table><p>"
      ],
      "text/plain": [
       "<IPython.core.display.HTML object>"
      ]
     },
     "metadata": {},
     "output_type": "display_data"
    },
    {
     "data": {
      "text/html": [
       "\n",
       "    <div>\n",
       "      \n",
       "      <progress value='741' max='741' style='width:300px; height:20px; vertical-align: middle;'></progress>\n",
       "      [741/741 00:14]\n",
       "    </div>\n",
       "    "
      ],
      "text/plain": [
       "<IPython.core.display.HTML object>"
      ]
     },
     "metadata": {},
     "output_type": "display_data"
    },
    {
     "name": "stdout",
     "output_type": "stream",
     "text": [
      "[Hyperopt] params={'batch_size': 8, 'epochs': 3, 'gamma': 3.0, 'label_smoothing': 0.10021363369176772, 'learning_rate': 0.0004959541400784636, 'use_focal_loss': False} => F1=0.8125\n",
      " 47%|████▋     | 14/30 [1:50:36<2:25:17, 544.85s/trial, best loss: -0.8124559041448337]"
     ]
    },
    {
     "data": {
      "text/html": [
       "\n",
       "    <div>\n",
       "      \n",
       "      <progress value='4656' max='4656' style='width:300px; height:20px; vertical-align: middle;'></progress>\n",
       "      [4656/4656 04:25, Epoch 3/3]\n",
       "    </div>\n",
       "    <table border=\"1\" class=\"dataframe\">\n",
       "  <thead>\n",
       " <tr style=\"text-align: left;\">\n",
       "      <th>Epoch</th>\n",
       "      <th>Training Loss</th>\n",
       "      <th>Validation Loss</th>\n",
       "      <th>F1</th>\n",
       "      <th>Accuracy</th>\n",
       "    </tr>\n",
       "  </thead>\n",
       "  <tbody>\n",
       "    <tr>\n",
       "      <td>1</td>\n",
       "      <td>0.115800</td>\n",
       "      <td>0.111396</td>\n",
       "      <td>0.795381</td>\n",
       "      <td>0.790584</td>\n",
       "    </tr>\n",
       "    <tr>\n",
       "      <td>2</td>\n",
       "      <td>0.086800</td>\n",
       "      <td>0.099607</td>\n",
       "      <td>0.817505</td>\n",
       "      <td>0.818259</td>\n",
       "    </tr>\n",
       "    <tr>\n",
       "      <td>3</td>\n",
       "      <td>0.067300</td>\n",
       "      <td>0.110560</td>\n",
       "      <td>0.819872</td>\n",
       "      <td>0.822308</td>\n",
       "    </tr>\n",
       "  </tbody>\n",
       "</table><p>"
      ],
      "text/plain": [
       "<IPython.core.display.HTML object>"
      ]
     },
     "metadata": {},
     "output_type": "display_data"
    },
    {
     "data": {
      "text/html": [
       "\n",
       "    <div>\n",
       "      \n",
       "      <progress value='741' max='741' style='width:300px; height:20px; vertical-align: middle;'></progress>\n",
       "      [741/741 00:13]\n",
       "    </div>\n",
       "    "
      ],
      "text/plain": [
       "<IPython.core.display.HTML object>"
      ]
     },
     "metadata": {},
     "output_type": "display_data"
    },
    {
     "name": "stdout",
     "output_type": "stream",
     "text": [
      "[Hyperopt] params={'batch_size': 16, 'epochs': 3, 'gamma': 2.0, 'label_smoothing': 0.001596788141987604, 'learning_rate': 0.00030544744169664826, 'use_focal_loss': True} => F1=0.8199\n",
      " 50%|█████     | 15/30 [1:55:16<1:56:13, 464.93s/trial, best loss: -0.8198722747998499]"
     ]
    },
    {
     "data": {
      "text/html": [
       "\n",
       "    <div>\n",
       "      \n",
       "      <progress value='3104' max='3104' style='width:300px; height:20px; vertical-align: middle;'></progress>\n",
       "      [3104/3104 02:51, Epoch 2/2]\n",
       "    </div>\n",
       "    <table border=\"1\" class=\"dataframe\">\n",
       "  <thead>\n",
       " <tr style=\"text-align: left;\">\n",
       "      <th>Epoch</th>\n",
       "      <th>Training Loss</th>\n",
       "      <th>Validation Loss</th>\n",
       "      <th>F1</th>\n",
       "      <th>Accuracy</th>\n",
       "    </tr>\n",
       "  </thead>\n",
       "  <tbody>\n",
       "    <tr>\n",
       "      <td>1</td>\n",
       "      <td>0.561300</td>\n",
       "      <td>0.528412</td>\n",
       "      <td>0.690397</td>\n",
       "      <td>0.741141</td>\n",
       "    </tr>\n",
       "    <tr>\n",
       "      <td>2</td>\n",
       "      <td>0.505300</td>\n",
       "      <td>0.514586</td>\n",
       "      <td>0.720229</td>\n",
       "      <td>0.747216</td>\n",
       "    </tr>\n",
       "  </tbody>\n",
       "</table><p>"
      ],
      "text/plain": [
       "<IPython.core.display.HTML object>"
      ]
     },
     "metadata": {},
     "output_type": "display_data"
    },
    {
     "data": {
      "text/html": [
       "\n",
       "    <div>\n",
       "      \n",
       "      <progress value='741' max='741' style='width:300px; height:20px; vertical-align: middle;'></progress>\n",
       "      [741/741 00:14]\n",
       "    </div>\n",
       "    "
      ],
      "text/plain": [
       "<IPython.core.display.HTML object>"
      ]
     },
     "metadata": {},
     "output_type": "display_data"
    },
    {
     "name": "stdout",
     "output_type": "stream",
     "text": [
      "[Hyperopt] params={'batch_size': 16, 'epochs': 2, 'gamma': 1.5, 'label_smoothing': 0.01675165929367779, 'learning_rate': 1.4595040124610039e-05, 'use_focal_loss': False} => F1=0.7202\n",
      " 53%|█████▎    | 16/30 [1:58:23<1:28:56, 381.15s/trial, best loss: -0.8198722747998499]"
     ]
    },
    {
     "data": {
      "text/html": [
       "\n",
       "    <div>\n",
       "      \n",
       "      <progress value='12410' max='12410' style='width:300px; height:20px; vertical-align: middle;'></progress>\n",
       "      [12410/12410 11:30, Epoch 2/2]\n",
       "    </div>\n",
       "    <table border=\"1\" class=\"dataframe\">\n",
       "  <thead>\n",
       " <tr style=\"text-align: left;\">\n",
       "      <th>Epoch</th>\n",
       "      <th>Training Loss</th>\n",
       "      <th>Validation Loss</th>\n",
       "      <th>F1</th>\n",
       "      <th>Accuracy</th>\n",
       "    </tr>\n",
       "  </thead>\n",
       "  <tbody>\n",
       "    <tr>\n",
       "      <td>1</td>\n",
       "      <td>0.089600</td>\n",
       "      <td>0.084154</td>\n",
       "      <td>0.768845</td>\n",
       "      <td>0.780459</td>\n",
       "    </tr>\n",
       "    <tr>\n",
       "      <td>2</td>\n",
       "      <td>0.079100</td>\n",
       "      <td>0.084837</td>\n",
       "      <td>0.782557</td>\n",
       "      <td>0.793453</td>\n",
       "    </tr>\n",
       "  </tbody>\n",
       "</table><p>"
      ],
      "text/plain": [
       "<IPython.core.display.HTML object>"
      ]
     },
     "metadata": {},
     "output_type": "display_data"
    },
    {
     "data": {
      "text/html": [
       "\n",
       "    <div>\n",
       "      \n",
       "      <progress value='741' max='741' style='width:300px; height:20px; vertical-align: middle;'></progress>\n",
       "      [741/741 00:13]\n",
       "    </div>\n",
       "    "
      ],
      "text/plain": [
       "<IPython.core.display.HTML object>"
      ]
     },
     "metadata": {},
     "output_type": "display_data"
    },
    {
     "name": "stdout",
     "output_type": "stream",
     "text": [
      "[Hyperopt] params={'batch_size': 4, 'epochs': 2, 'gamma': 2.5, 'label_smoothing': 0.015217215887997538, 'learning_rate': 4.243887089374806e-05, 'use_focal_loss': True} => F1=0.7826\n",
      " 57%|█████▋    | 17/30 [2:10:08<1:43:40, 478.48s/trial, best loss: -0.8198722747998499]"
     ]
    },
    {
     "data": {
      "text/html": [
       "\n",
       "    <div>\n",
       "      \n",
       "      <progress value='6208' max='6208' style='width:300px; height:20px; vertical-align: middle;'></progress>\n",
       "      [6208/6208 05:57, Epoch 4/4]\n",
       "    </div>\n",
       "    <table border=\"1\" class=\"dataframe\">\n",
       "  <thead>\n",
       " <tr style=\"text-align: left;\">\n",
       "      <th>Epoch</th>\n",
       "      <th>Training Loss</th>\n",
       "      <th>Validation Loss</th>\n",
       "      <th>F1</th>\n",
       "      <th>Accuracy</th>\n",
       "    </tr>\n",
       "  </thead>\n",
       "  <tbody>\n",
       "    <tr>\n",
       "      <td>1</td>\n",
       "      <td>0.094600</td>\n",
       "      <td>0.088765</td>\n",
       "      <td>0.723921</td>\n",
       "      <td>0.753291</td>\n",
       "    </tr>\n",
       "    <tr>\n",
       "      <td>2</td>\n",
       "      <td>0.084200</td>\n",
       "      <td>0.085047</td>\n",
       "      <td>0.756561</td>\n",
       "      <td>0.769659</td>\n",
       "    </tr>\n",
       "    <tr>\n",
       "      <td>3</td>\n",
       "      <td>0.080900</td>\n",
       "      <td>0.085096</td>\n",
       "      <td>0.758464</td>\n",
       "      <td>0.775903</td>\n",
       "    </tr>\n",
       "    <tr>\n",
       "      <td>4</td>\n",
       "      <td>0.079200</td>\n",
       "      <td>0.083974</td>\n",
       "      <td>0.766491</td>\n",
       "      <td>0.776578</td>\n",
       "    </tr>\n",
       "  </tbody>\n",
       "</table><p>"
      ],
      "text/plain": [
       "<IPython.core.display.HTML object>"
      ]
     },
     "metadata": {},
     "output_type": "display_data"
    },
    {
     "data": {
      "text/html": [
       "\n",
       "    <div>\n",
       "      \n",
       "      <progress value='741' max='741' style='width:300px; height:20px; vertical-align: middle;'></progress>\n",
       "      [741/741 00:13]\n",
       "    </div>\n",
       "    "
      ],
      "text/plain": [
       "<IPython.core.display.HTML object>"
      ]
     },
     "metadata": {},
     "output_type": "display_data"
    },
    {
     "name": "stdout",
     "output_type": "stream",
     "text": [
      "[Hyperopt] params={'batch_size': 16, 'epochs': 4, 'gamma': 2.5, 'label_smoothing': 0.1936092761633049, 'learning_rate': 1.900517860553418e-05, 'use_focal_loss': True} => F1=0.7665\n",
      " 60%|██████    | 18/30 [2:16:20<1:29:18, 446.57s/trial, best loss: -0.8198722747998499]"
     ]
    },
    {
     "data": {
      "text/html": [
       "\n",
       "    <div>\n",
       "      \n",
       "      <progress value='4656' max='4656' style='width:300px; height:20px; vertical-align: middle;'></progress>\n",
       "      [4656/4656 04:26, Epoch 3/3]\n",
       "    </div>\n",
       "    <table border=\"1\" class=\"dataframe\">\n",
       "  <thead>\n",
       " <tr style=\"text-align: left;\">\n",
       "      <th>Epoch</th>\n",
       "      <th>Training Loss</th>\n",
       "      <th>Validation Loss</th>\n",
       "      <th>F1</th>\n",
       "      <th>Accuracy</th>\n",
       "    </tr>\n",
       "  </thead>\n",
       "  <tbody>\n",
       "    <tr>\n",
       "      <td>1</td>\n",
       "      <td>0.531600</td>\n",
       "      <td>0.510663</td>\n",
       "      <td>0.800432</td>\n",
       "      <td>0.802565</td>\n",
       "    </tr>\n",
       "    <tr>\n",
       "      <td>2</td>\n",
       "      <td>0.451200</td>\n",
       "      <td>0.492532</td>\n",
       "      <td>0.815570</td>\n",
       "      <td>0.823321</td>\n",
       "    </tr>\n",
       "    <tr>\n",
       "      <td>3</td>\n",
       "      <td>0.396500</td>\n",
       "      <td>0.515430</td>\n",
       "      <td>0.811854</td>\n",
       "      <td>0.814884</td>\n",
       "    </tr>\n",
       "  </tbody>\n",
       "</table><p>"
      ],
      "text/plain": [
       "<IPython.core.display.HTML object>"
      ]
     },
     "metadata": {},
     "output_type": "display_data"
    },
    {
     "data": {
      "text/html": [
       "\n",
       "    <div>\n",
       "      \n",
       "      <progress value='741' max='741' style='width:300px; height:20px; vertical-align: middle;'></progress>\n",
       "      [741/741 00:14]\n",
       "    </div>\n",
       "    "
      ],
      "text/plain": [
       "<IPython.core.display.HTML object>"
      ]
     },
     "metadata": {},
     "output_type": "display_data"
    },
    {
     "name": "stdout",
     "output_type": "stream",
     "text": [
      "[Hyperopt] params={'batch_size': 16, 'epochs': 3, 'gamma': 2.0, 'label_smoothing': 0.0757258409426292, 'learning_rate': 0.00044881056090763187, 'use_focal_loss': False} => F1=0.8156\n",
      " 63%|██████▎   | 19/30 [2:21:02<1:12:48, 397.11s/trial, best loss: -0.8198722747998499]"
     ]
    },
    {
     "data": {
      "text/html": [
       "\n",
       "    <div>\n",
       "      \n",
       "      <progress value='3104' max='3104' style='width:300px; height:20px; vertical-align: middle;'></progress>\n",
       "      [3104/3104 02:58, Epoch 2/2]\n",
       "    </div>\n",
       "    <table border=\"1\" class=\"dataframe\">\n",
       "  <thead>\n",
       " <tr style=\"text-align: left;\">\n",
       "      <th>Epoch</th>\n",
       "      <th>Training Loss</th>\n",
       "      <th>Validation Loss</th>\n",
       "      <th>F1</th>\n",
       "      <th>Accuracy</th>\n",
       "    </tr>\n",
       "  </thead>\n",
       "  <tbody>\n",
       "    <tr>\n",
       "      <td>1</td>\n",
       "      <td>0.049200</td>\n",
       "      <td>0.046873</td>\n",
       "      <td>0.692520</td>\n",
       "      <td>0.739116</td>\n",
       "    </tr>\n",
       "    <tr>\n",
       "      <td>2</td>\n",
       "      <td>0.044800</td>\n",
       "      <td>0.045643</td>\n",
       "      <td>0.720338</td>\n",
       "      <td>0.749072</td>\n",
       "    </tr>\n",
       "  </tbody>\n",
       "</table><p>"
      ],
      "text/plain": [
       "<IPython.core.display.HTML object>"
      ]
     },
     "metadata": {},
     "output_type": "display_data"
    },
    {
     "data": {
      "text/html": [
       "\n",
       "    <div>\n",
       "      \n",
       "      <progress value='741' max='741' style='width:300px; height:20px; vertical-align: middle;'></progress>\n",
       "      [741/741 00:13]\n",
       "    </div>\n",
       "    "
      ],
      "text/plain": [
       "<IPython.core.display.HTML object>"
      ]
     },
     "metadata": {},
     "output_type": "display_data"
    },
    {
     "name": "stdout",
     "output_type": "stream",
     "text": [
      "[Hyperopt] params={'batch_size': 16, 'epochs': 2, 'gamma': 3.5, 'label_smoothing': 0.14418503150233394, 'learning_rate': 1.3587175310198305e-05, 'use_focal_loss': True} => F1=0.7203\n",
      " 67%|██████▋   | 20/30 [2:24:14<55:56, 335.68s/trial, best loss: -0.8198722747998499]  "
     ]
    },
    {
     "data": {
      "text/html": [
       "\n",
       "    <div>\n",
       "      \n",
       "      <progress value='4656' max='4656' style='width:300px; height:20px; vertical-align: middle;'></progress>\n",
       "      [4656/4656 04:22, Epoch 3/3]\n",
       "    </div>\n",
       "    <table border=\"1\" class=\"dataframe\">\n",
       "  <thead>\n",
       " <tr style=\"text-align: left;\">\n",
       "      <th>Epoch</th>\n",
       "      <th>Training Loss</th>\n",
       "      <th>Validation Loss</th>\n",
       "      <th>F1</th>\n",
       "      <th>Accuracy</th>\n",
       "    </tr>\n",
       "  </thead>\n",
       "  <tbody>\n",
       "    <tr>\n",
       "      <td>1</td>\n",
       "      <td>0.227400</td>\n",
       "      <td>0.210252</td>\n",
       "      <td>0.805722</td>\n",
       "      <td>0.803409</td>\n",
       "    </tr>\n",
       "    <tr>\n",
       "      <td>2</td>\n",
       "      <td>0.169300</td>\n",
       "      <td>0.195307</td>\n",
       "      <td>0.818473</td>\n",
       "      <td>0.821633</td>\n",
       "    </tr>\n",
       "    <tr>\n",
       "      <td>3</td>\n",
       "      <td>0.129800</td>\n",
       "      <td>0.214985</td>\n",
       "      <td>0.820939</td>\n",
       "      <td>0.824333</td>\n",
       "    </tr>\n",
       "  </tbody>\n",
       "</table><p>"
      ],
      "text/plain": [
       "<IPython.core.display.HTML object>"
      ]
     },
     "metadata": {},
     "output_type": "display_data"
    },
    {
     "data": {
      "text/html": [
       "\n",
       "    <div>\n",
       "      \n",
       "      <progress value='741' max='741' style='width:300px; height:20px; vertical-align: middle;'></progress>\n",
       "      [741/741 00:13]\n",
       "    </div>\n",
       "    "
      ],
      "text/plain": [
       "<IPython.core.display.HTML object>"
      ]
     },
     "metadata": {},
     "output_type": "display_data"
    },
    {
     "name": "stdout",
     "output_type": "stream",
     "text": [
      "[Hyperopt] params={'batch_size': 16, 'epochs': 3, 'gamma': 1.0, 'label_smoothing': 0.0010807772937372617, 'learning_rate': 0.00031300276112234337, 'use_focal_loss': True} => F1=0.8209\n",
      " 70%|███████   | 21/30 [2:28:51<47:41, 317.94s/trial, best loss: -0.8209388765486151]"
     ]
    },
    {
     "data": {
      "text/html": [
       "\n",
       "    <div>\n",
       "      \n",
       "      <progress value='4656' max='4656' style='width:300px; height:20px; vertical-align: middle;'></progress>\n",
       "      [4656/4656 04:23, Epoch 3/3]\n",
       "    </div>\n",
       "    <table border=\"1\" class=\"dataframe\">\n",
       "  <thead>\n",
       " <tr style=\"text-align: left;\">\n",
       "      <th>Epoch</th>\n",
       "      <th>Training Loss</th>\n",
       "      <th>Validation Loss</th>\n",
       "      <th>F1</th>\n",
       "      <th>Accuracy</th>\n",
       "    </tr>\n",
       "  </thead>\n",
       "  <tbody>\n",
       "    <tr>\n",
       "      <td>1</td>\n",
       "      <td>0.228400</td>\n",
       "      <td>0.212856</td>\n",
       "      <td>0.801472</td>\n",
       "      <td>0.798515</td>\n",
       "    </tr>\n",
       "    <tr>\n",
       "      <td>2</td>\n",
       "      <td>0.173900</td>\n",
       "      <td>0.196101</td>\n",
       "      <td>0.819288</td>\n",
       "      <td>0.819271</td>\n",
       "    </tr>\n",
       "    <tr>\n",
       "      <td>3</td>\n",
       "      <td>0.139000</td>\n",
       "      <td>0.208608</td>\n",
       "      <td>0.823521</td>\n",
       "      <td>0.827202</td>\n",
       "    </tr>\n",
       "  </tbody>\n",
       "</table><p>"
      ],
      "text/plain": [
       "<IPython.core.display.HTML object>"
      ]
     },
     "metadata": {},
     "output_type": "display_data"
    },
    {
     "data": {
      "text/html": [
       "\n",
       "    <div>\n",
       "      \n",
       "      <progress value='741' max='741' style='width:300px; height:20px; vertical-align: middle;'></progress>\n",
       "      [741/741 00:13]\n",
       "    </div>\n",
       "    "
      ],
      "text/plain": [
       "<IPython.core.display.HTML object>"
      ]
     },
     "metadata": {},
     "output_type": "display_data"
    },
    {
     "name": "stdout",
     "output_type": "stream",
     "text": [
      "[Hyperopt] params={'batch_size': 16, 'epochs': 3, 'gamma': 1.0, 'label_smoothing': 0.03442125718345023, 'learning_rate': 0.000256275263307022, 'use_focal_loss': True} => F1=0.8235\n",
      " 73%|███████▎  | 22/30 [2:33:29<40:48, 306.02s/trial, best loss: -0.8235211803073061]"
     ]
    },
    {
     "data": {
      "text/html": [
       "\n",
       "    <div>\n",
       "      \n",
       "      <progress value='4656' max='4656' style='width:300px; height:20px; vertical-align: middle;'></progress>\n",
       "      [4656/4656 04:24, Epoch 3/3]\n",
       "    </div>\n",
       "    <table border=\"1\" class=\"dataframe\">\n",
       "  <thead>\n",
       " <tr style=\"text-align: left;\">\n",
       "      <th>Epoch</th>\n",
       "      <th>Training Loss</th>\n",
       "      <th>Validation Loss</th>\n",
       "      <th>F1</th>\n",
       "      <th>Accuracy</th>\n",
       "    </tr>\n",
       "  </thead>\n",
       "  <tbody>\n",
       "    <tr>\n",
       "      <td>1</td>\n",
       "      <td>0.232500</td>\n",
       "      <td>0.212016</td>\n",
       "      <td>0.797649</td>\n",
       "      <td>0.797840</td>\n",
       "    </tr>\n",
       "    <tr>\n",
       "      <td>2</td>\n",
       "      <td>0.184300</td>\n",
       "      <td>0.200059</td>\n",
       "      <td>0.815368</td>\n",
       "      <td>0.817246</td>\n",
       "    </tr>\n",
       "    <tr>\n",
       "      <td>3</td>\n",
       "      <td>0.157300</td>\n",
       "      <td>0.209136</td>\n",
       "      <td>0.812800</td>\n",
       "      <td>0.818090</td>\n",
       "    </tr>\n",
       "  </tbody>\n",
       "</table><p>"
      ],
      "text/plain": [
       "<IPython.core.display.HTML object>"
      ]
     },
     "metadata": {},
     "output_type": "display_data"
    },
    {
     "data": {
      "text/html": [
       "\n",
       "    <div>\n",
       "      \n",
       "      <progress value='741' max='741' style='width:300px; height:20px; vertical-align: middle;'></progress>\n",
       "      [741/741 00:13]\n",
       "    </div>\n",
       "    "
      ],
      "text/plain": [
       "<IPython.core.display.HTML object>"
      ]
     },
     "metadata": {},
     "output_type": "display_data"
    },
    {
     "name": "stdout",
     "output_type": "stream",
     "text": [
      "[Hyperopt] params={'batch_size': 16, 'epochs': 3, 'gamma': 1.0, 'label_smoothing': 0.03714865230379665, 'learning_rate': 0.00017381971319044515, 'use_focal_loss': True} => F1=0.8154\n",
      " 77%|███████▋  | 23/30 [2:38:08<34:44, 297.78s/trial, best loss: -0.8235211803073061]"
     ]
    },
    {
     "data": {
      "text/html": [
       "\n",
       "    <div>\n",
       "      \n",
       "      <progress value='6208' max='6208' style='width:300px; height:20px; vertical-align: middle;'></progress>\n",
       "      [6208/6208 05:34, Epoch 4/4]\n",
       "    </div>\n",
       "    <table border=\"1\" class=\"dataframe\">\n",
       "  <thead>\n",
       " <tr style=\"text-align: left;\">\n",
       "      <th>Epoch</th>\n",
       "      <th>Training Loss</th>\n",
       "      <th>Validation Loss</th>\n",
       "      <th>F1</th>\n",
       "      <th>Accuracy</th>\n",
       "    </tr>\n",
       "  </thead>\n",
       "  <tbody>\n",
       "    <tr>\n",
       "      <td>1</td>\n",
       "      <td>0.227000</td>\n",
       "      <td>0.216723</td>\n",
       "      <td>0.799392</td>\n",
       "      <td>0.794971</td>\n",
       "    </tr>\n",
       "    <tr>\n",
       "      <td>2</td>\n",
       "      <td>0.166600</td>\n",
       "      <td>0.191710</td>\n",
       "      <td>0.818977</td>\n",
       "      <td>0.821971</td>\n",
       "    </tr>\n",
       "    <tr>\n",
       "      <td>3</td>\n",
       "      <td>0.124000</td>\n",
       "      <td>0.220160</td>\n",
       "      <td>0.817311</td>\n",
       "      <td>0.820115</td>\n",
       "    </tr>\n",
       "    <tr>\n",
       "      <td>4</td>\n",
       "      <td>0.093200</td>\n",
       "      <td>0.254726</td>\n",
       "      <td>0.813421</td>\n",
       "      <td>0.815727</td>\n",
       "    </tr>\n",
       "  </tbody>\n",
       "</table><p>"
      ],
      "text/plain": [
       "<IPython.core.display.HTML object>"
      ]
     },
     "metadata": {},
     "output_type": "display_data"
    },
    {
     "data": {
      "text/html": [
       "\n",
       "    <div>\n",
       "      \n",
       "      <progress value='741' max='741' style='width:300px; height:20px; vertical-align: middle;'></progress>\n",
       "      [741/741 00:13]\n",
       "    </div>\n",
       "    "
      ],
      "text/plain": [
       "<IPython.core.display.HTML object>"
      ]
     },
     "metadata": {},
     "output_type": "display_data"
    },
    {
     "name": "stdout",
     "output_type": "stream",
     "text": [
      "[Hyperopt] params={'batch_size': 16, 'epochs': 4, 'gamma': 1.0, 'label_smoothing': 0.0037154612589670073, 'learning_rate': 0.00032702531761134607, 'use_focal_loss': True} => F1=0.8190\n",
      " 80%|████████  | 24/30 [2:43:57<31:18, 313.16s/trial, best loss: -0.8235211803073061]"
     ]
    },
    {
     "data": {
      "text/html": [
       "\n",
       "    <div>\n",
       "      \n",
       "      <progress value='4656' max='4656' style='width:300px; height:20px; vertical-align: middle;'></progress>\n",
       "      [4656/4656 04:02, Epoch 3/3]\n",
       "    </div>\n",
       "    <table border=\"1\" class=\"dataframe\">\n",
       "  <thead>\n",
       " <tr style=\"text-align: left;\">\n",
       "      <th>Epoch</th>\n",
       "      <th>Training Loss</th>\n",
       "      <th>Validation Loss</th>\n",
       "      <th>F1</th>\n",
       "      <th>Accuracy</th>\n",
       "    </tr>\n",
       "  </thead>\n",
       "  <tbody>\n",
       "    <tr>\n",
       "      <td>1</td>\n",
       "      <td>0.164600</td>\n",
       "      <td>0.151602</td>\n",
       "      <td>0.800622</td>\n",
       "      <td>0.799021</td>\n",
       "    </tr>\n",
       "    <tr>\n",
       "      <td>2</td>\n",
       "      <td>0.130200</td>\n",
       "      <td>0.142686</td>\n",
       "      <td>0.813619</td>\n",
       "      <td>0.815727</td>\n",
       "    </tr>\n",
       "    <tr>\n",
       "      <td>3</td>\n",
       "      <td>0.110700</td>\n",
       "      <td>0.150342</td>\n",
       "      <td>0.812062</td>\n",
       "      <td>0.816909</td>\n",
       "    </tr>\n",
       "  </tbody>\n",
       "</table><p>"
      ],
      "text/plain": [
       "<IPython.core.display.HTML object>"
      ]
     },
     "metadata": {},
     "output_type": "display_data"
    },
    {
     "data": {
      "text/html": [
       "\n",
       "    <div>\n",
       "      \n",
       "      <progress value='741' max='741' style='width:300px; height:20px; vertical-align: middle;'></progress>\n",
       "      [741/741 00:12]\n",
       "    </div>\n",
       "    "
      ],
      "text/plain": [
       "<IPython.core.display.HTML object>"
      ]
     },
     "metadata": {},
     "output_type": "display_data"
    },
    {
     "name": "stdout",
     "output_type": "stream",
     "text": [
      "[Hyperopt] params={'batch_size': 16, 'epochs': 3, 'gamma': 1.5, 'label_smoothing': 0.031687588572890585, 'learning_rate': 0.00017889463142200593, 'use_focal_loss': True} => F1=0.8136\n",
      " 83%|████████▎ | 25/30 [2:48:13<24:40, 296.17s/trial, best loss: -0.8235211803073061]"
     ]
    },
    {
     "data": {
      "text/html": [
       "\n",
       "    <div>\n",
       "      \n",
       "      <progress value='4656' max='4656' style='width:300px; height:20px; vertical-align: middle;'></progress>\n",
       "      [4656/4656 04:22, Epoch 3/3]\n",
       "    </div>\n",
       "    <table border=\"1\" class=\"dataframe\">\n",
       "  <thead>\n",
       " <tr style=\"text-align: left;\">\n",
       "      <th>Epoch</th>\n",
       "      <th>Training Loss</th>\n",
       "      <th>Validation Loss</th>\n",
       "      <th>F1</th>\n",
       "      <th>Accuracy</th>\n",
       "    </tr>\n",
       "  </thead>\n",
       "  <tbody>\n",
       "    <tr>\n",
       "      <td>1</td>\n",
       "      <td>0.161300</td>\n",
       "      <td>0.155788</td>\n",
       "      <td>0.792492</td>\n",
       "      <td>0.786871</td>\n",
       "    </tr>\n",
       "    <tr>\n",
       "      <td>2</td>\n",
       "      <td>0.116500</td>\n",
       "      <td>0.139403</td>\n",
       "      <td>0.818208</td>\n",
       "      <td>0.820283</td>\n",
       "    </tr>\n",
       "    <tr>\n",
       "      <td>3</td>\n",
       "      <td>0.086600</td>\n",
       "      <td>0.162582</td>\n",
       "      <td>0.817898</td>\n",
       "      <td>0.820283</td>\n",
       "    </tr>\n",
       "  </tbody>\n",
       "</table><p>"
      ],
      "text/plain": [
       "<IPython.core.display.HTML object>"
      ]
     },
     "metadata": {},
     "output_type": "display_data"
    },
    {
     "data": {
      "text/html": [
       "\n",
       "    <div>\n",
       "      \n",
       "      <progress value='741' max='741' style='width:300px; height:20px; vertical-align: middle;'></progress>\n",
       "      [741/741 00:13]\n",
       "    </div>\n",
       "    "
      ],
      "text/plain": [
       "<IPython.core.display.HTML object>"
      ]
     },
     "metadata": {},
     "output_type": "display_data"
    },
    {
     "name": "stdout",
     "output_type": "stream",
     "text": [
      "[Hyperopt] params={'batch_size': 16, 'epochs': 3, 'gamma': 1.5, 'label_smoothing': 0.11209584525567445, 'learning_rate': 0.0003836857154022111, 'use_focal_loss': True} => F1=0.8182\n",
      " 87%|████████▋ | 26/30 [2:52:50<19:20, 290.24s/trial, best loss: -0.8235211803073061]"
     ]
    },
    {
     "data": {
      "text/html": [
       "\n",
       "    <div>\n",
       "      \n",
       "      <progress value='4656' max='4656' style='width:300px; height:20px; vertical-align: middle;'></progress>\n",
       "      [4656/4656 04:23, Epoch 3/3]\n",
       "    </div>\n",
       "    <table border=\"1\" class=\"dataframe\">\n",
       "  <thead>\n",
       " <tr style=\"text-align: left;\">\n",
       "      <th>Epoch</th>\n",
       "      <th>Training Loss</th>\n",
       "      <th>Validation Loss</th>\n",
       "      <th>F1</th>\n",
       "      <th>Accuracy</th>\n",
       "    </tr>\n",
       "  </thead>\n",
       "  <tbody>\n",
       "    <tr>\n",
       "      <td>1</td>\n",
       "      <td>0.235100</td>\n",
       "      <td>0.213845</td>\n",
       "      <td>0.792797</td>\n",
       "      <td>0.797165</td>\n",
       "    </tr>\n",
       "    <tr>\n",
       "      <td>2</td>\n",
       "      <td>0.190300</td>\n",
       "      <td>0.203959</td>\n",
       "      <td>0.807382</td>\n",
       "      <td>0.811509</td>\n",
       "    </tr>\n",
       "    <tr>\n",
       "      <td>3</td>\n",
       "      <td>0.166800</td>\n",
       "      <td>0.210450</td>\n",
       "      <td>0.807646</td>\n",
       "      <td>0.813196</td>\n",
       "    </tr>\n",
       "  </tbody>\n",
       "</table><p>"
      ],
      "text/plain": [
       "<IPython.core.display.HTML object>"
      ]
     },
     "metadata": {},
     "output_type": "display_data"
    },
    {
     "data": {
      "text/html": [
       "\n",
       "    <div>\n",
       "      \n",
       "      <progress value='741' max='741' style='width:300px; height:20px; vertical-align: middle;'></progress>\n",
       "      [741/741 00:14]\n",
       "    </div>\n",
       "    "
      ],
      "text/plain": [
       "<IPython.core.display.HTML object>"
      ]
     },
     "metadata": {},
     "output_type": "display_data"
    },
    {
     "name": "stdout",
     "output_type": "stream",
     "text": [
      "[Hyperopt] params={'batch_size': 16, 'epochs': 3, 'gamma': 1.0, 'label_smoothing': 0.0027084523936727637, 'learning_rate': 0.00014295026104359354, 'use_focal_loss': True} => F1=0.8076\n",
      " 90%|█████████ | 27/30 [2:57:28<14:20, 286.76s/trial, best loss: -0.8235211803073061]"
     ]
    },
    {
     "data": {
      "text/html": [
       "\n",
       "    <div>\n",
       "      \n",
       "      <progress value='6208' max='6208' style='width:300px; height:20px; vertical-align: middle;'></progress>\n",
       "      [6208/6208 05:48, Epoch 4/4]\n",
       "    </div>\n",
       "    <table border=\"1\" class=\"dataframe\">\n",
       "  <thead>\n",
       " <tr style=\"text-align: left;\">\n",
       "      <th>Epoch</th>\n",
       "      <th>Training Loss</th>\n",
       "      <th>Validation Loss</th>\n",
       "      <th>F1</th>\n",
       "      <th>Accuracy</th>\n",
       "    </tr>\n",
       "  </thead>\n",
       "  <tbody>\n",
       "    <tr>\n",
       "      <td>1</td>\n",
       "      <td>0.172200</td>\n",
       "      <td>0.159940</td>\n",
       "      <td>0.777187</td>\n",
       "      <td>0.781809</td>\n",
       "    </tr>\n",
       "    <tr>\n",
       "      <td>2</td>\n",
       "      <td>0.145200</td>\n",
       "      <td>0.150347</td>\n",
       "      <td>0.800262</td>\n",
       "      <td>0.804927</td>\n",
       "    </tr>\n",
       "    <tr>\n",
       "      <td>3</td>\n",
       "      <td>0.130600</td>\n",
       "      <td>0.151757</td>\n",
       "      <td>0.799997</td>\n",
       "      <td>0.807965</td>\n",
       "    </tr>\n",
       "    <tr>\n",
       "      <td>4</td>\n",
       "      <td>0.122100</td>\n",
       "      <td>0.153301</td>\n",
       "      <td>0.807053</td>\n",
       "      <td>0.811340</td>\n",
       "    </tr>\n",
       "  </tbody>\n",
       "</table><p>"
      ],
      "text/plain": [
       "<IPython.core.display.HTML object>"
      ]
     },
     "metadata": {},
     "output_type": "display_data"
    },
    {
     "data": {
      "text/html": [
       "\n",
       "    <div>\n",
       "      \n",
       "      <progress value='741' max='741' style='width:300px; height:20px; vertical-align: middle;'></progress>\n",
       "      [741/741 00:14]\n",
       "    </div>\n",
       "    "
      ],
      "text/plain": [
       "<IPython.core.display.HTML object>"
      ]
     },
     "metadata": {},
     "output_type": "display_data"
    },
    {
     "name": "stdout",
     "output_type": "stream",
     "text": [
      "[Hyperopt] params={'batch_size': 16, 'epochs': 4, 'gamma': 1.5, 'label_smoothing': 0.03214572393619095, 'learning_rate': 8.082004713571994e-05, 'use_focal_loss': True} => F1=0.8071\n",
      " 93%|█████████▎| 28/30 [3:03:32<10:19, 309.94s/trial, best loss: -0.8235211803073061]"
     ]
    },
    {
     "data": {
      "text/html": [
       "\n",
       "    <div>\n",
       "      \n",
       "      <progress value='4656' max='4656' style='width:300px; height:20px; vertical-align: middle;'></progress>\n",
       "      [4656/4656 04:23, Epoch 3/3]\n",
       "    </div>\n",
       "    <table border=\"1\" class=\"dataframe\">\n",
       "  <thead>\n",
       " <tr style=\"text-align: left;\">\n",
       "      <th>Epoch</th>\n",
       "      <th>Training Loss</th>\n",
       "      <th>Validation Loss</th>\n",
       "      <th>F1</th>\n",
       "      <th>Accuracy</th>\n",
       "    </tr>\n",
       "  </thead>\n",
       "  <tbody>\n",
       "    <tr>\n",
       "      <td>1</td>\n",
       "      <td>0.228700</td>\n",
       "      <td>0.208726</td>\n",
       "      <td>0.806468</td>\n",
       "      <td>0.805771</td>\n",
       "    </tr>\n",
       "    <tr>\n",
       "      <td>2</td>\n",
       "      <td>0.175800</td>\n",
       "      <td>0.196628</td>\n",
       "      <td>0.818082</td>\n",
       "      <td>0.819102</td>\n",
       "    </tr>\n",
       "    <tr>\n",
       "      <td>3</td>\n",
       "      <td>0.141800</td>\n",
       "      <td>0.208524</td>\n",
       "      <td>0.817800</td>\n",
       "      <td>0.822140</td>\n",
       "    </tr>\n",
       "  </tbody>\n",
       "</table><p>"
      ],
      "text/plain": [
       "<IPython.core.display.HTML object>"
      ]
     },
     "metadata": {},
     "output_type": "display_data"
    },
    {
     "data": {
      "text/html": [
       "\n",
       "    <div>\n",
       "      \n",
       "      <progress value='741' max='741' style='width:300px; height:20px; vertical-align: middle;'></progress>\n",
       "      [741/741 00:12]\n",
       "    </div>\n",
       "    "
      ],
      "text/plain": [
       "<IPython.core.display.HTML object>"
      ]
     },
     "metadata": {},
     "output_type": "display_data"
    },
    {
     "name": "stdout",
     "output_type": "stream",
     "text": [
      "[Hyperopt] params={'batch_size': 16, 'epochs': 3, 'gamma': 1.0, 'label_smoothing': 0.06209749291621103, 'learning_rate': 0.00023564616210829996, 'use_focal_loss': True} => F1=0.8181\n",
      " 97%|█████████▋| 29/30 [3:08:10<05:00, 300.19s/trial, best loss: -0.8235211803073061]"
     ]
    },
    {
     "data": {
      "text/html": [
       "\n",
       "    <div>\n",
       "      \n",
       "      <progress value='4656' max='4656' style='width:300px; height:20px; vertical-align: middle;'></progress>\n",
       "      [4656/4656 04:22, Epoch 3/3]\n",
       "    </div>\n",
       "    <table border=\"1\" class=\"dataframe\">\n",
       "  <thead>\n",
       " <tr style=\"text-align: left;\">\n",
       "      <th>Epoch</th>\n",
       "      <th>Training Loss</th>\n",
       "      <th>Validation Loss</th>\n",
       "      <th>F1</th>\n",
       "      <th>Accuracy</th>\n",
       "    </tr>\n",
       "  </thead>\n",
       "  <tbody>\n",
       "    <tr>\n",
       "      <td>1</td>\n",
       "      <td>0.015100</td>\n",
       "      <td>0.014087</td>\n",
       "      <td>0.798415</td>\n",
       "      <td>0.796659</td>\n",
       "    </tr>\n",
       "    <tr>\n",
       "      <td>2</td>\n",
       "      <td>0.012000</td>\n",
       "      <td>0.013809</td>\n",
       "      <td>0.805704</td>\n",
       "      <td>0.802734</td>\n",
       "    </tr>\n",
       "    <tr>\n",
       "      <td>3</td>\n",
       "      <td>0.009900</td>\n",
       "      <td>0.014533</td>\n",
       "      <td>0.814158</td>\n",
       "      <td>0.817415</td>\n",
       "    </tr>\n",
       "  </tbody>\n",
       "</table><p>"
      ],
      "text/plain": [
       "<IPython.core.display.HTML object>"
      ]
     },
     "metadata": {},
     "output_type": "display_data"
    },
    {
     "data": {
      "text/html": [
       "\n",
       "    <div>\n",
       "      \n",
       "      <progress value='741' max='741' style='width:300px; height:20px; vertical-align: middle;'></progress>\n",
       "      [741/741 00:13]\n",
       "    </div>\n",
       "    "
      ],
      "text/plain": [
       "<IPython.core.display.HTML object>"
      ]
     },
     "metadata": {},
     "output_type": "display_data"
    },
    {
     "name": "stdout",
     "output_type": "stream",
     "text": [
      "[Hyperopt] params={'batch_size': 16, 'epochs': 3, 'gamma': 5.0, 'label_smoothing': 0.12100011963995672, 'learning_rate': 0.00023319039336802745, 'use_focal_loss': True} => F1=0.8142\n",
      "100%|██████████| 30/30 [3:12:47<00:00, 385.58s/trial, best loss: -0.8235211803073061]\n",
      "\n",
      "Hyperopt best param indices: {'batch_size': np.int64(2), 'epochs': np.int64(1), 'gamma': np.float64(1.0), 'label_smoothing': np.float64(0.03442125718345023), 'learning_rate': np.float64(0.000256275263307022), 'use_focal_loss': np.int64(1)}\n"
     ]
    }
   ],
   "source": [
    "# ----------------------------------------------------------------------------\n",
    "# 8. Build Trainer & Hyperopt\n",
    "# ----------------------------------------------------------------------------\n",
    "def compute_metrics(eval_pred):\n",
    "    logits, labels = eval_pred\n",
    "    preds = np.argmax(logits, axis=1)\n",
    "    f1 = f1_score(labels, preds, average=\"weighted\")\n",
    "    acc = accuracy_score(labels, preds)\n",
    "    return {\"f1\": f1, \"accuracy\": acc}\n",
    "\n",
    "def make_trainer(model, train_ds, dev_ds, space):\n",
    "    learning_rate = space[\"learning_rate\"]\n",
    "    epochs        = int(space[\"epochs\"])\n",
    "    batch_size    = int(space[\"batch_size\"])\n",
    "\n",
    "    training_args = TrainingArguments(\n",
    "        output_dir=\"./enhanced-bilstm-ed-checkpoints\",\n",
    "        eval_strategy=\"epoch\",\n",
    "        save_strategy=\"epoch\",\n",
    "        logging_strategy=\"epoch\",\n",
    "        learning_rate=learning_rate,\n",
    "        num_train_epochs=epochs,\n",
    "        per_device_train_batch_size=batch_size,\n",
    "        per_device_eval_batch_size=EVAL_BATCH_SIZE,\n",
    "        load_best_model_at_end=True,\n",
    "        metric_for_best_model=BEST_MODEL_METRIC,\n",
    "        greater_is_better=True,\n",
    "        save_total_limit=1,\n",
    "        report_to=\"none\",\n",
    "        logging_steps=1\n",
    "    )\n",
    "\n",
    "    trainer = Trainer(\n",
    "        model=model,\n",
    "        args=training_args,\n",
    "        train_dataset=train_ds,\n",
    "        eval_dataset=dev_ds,\n",
    "        tokenizer=tokenizer,\n",
    "        compute_metrics=compute_metrics\n",
    "    )\n",
    "    return trainer\n",
    "\n",
    "def objective(space):\n",
    "    use_focal_loss = space[\"use_focal_loss\"]\n",
    "    gamma = space[\"gamma\"]\n",
    "    label_smoothing = space[\"label_smoothing\"]\n",
    "\n",
    "    # Build model\n",
    "    model = CustomBiLSTMModel(\n",
    "        vocab_size=len(tokenizer.get_vocab()),\n",
    "        embed_dim=EMBED_DIM,\n",
    "        hidden_dim=HIDDEN_DIM,\n",
    "        num_labels=2,\n",
    "        num_layers=NUM_LAYERS,\n",
    "        dropout=DROPOUT,\n",
    "        use_attention=USE_ATTENTION,\n",
    "        use_focal_loss=use_focal_loss,\n",
    "        gamma=gamma,\n",
    "        label_smoothing=label_smoothing,\n",
    "        embedding_matrix=embedding_matrix_tensor\n",
    "    )\n",
    "    model.to(device)\n",
    "\n",
    "    trainer = make_trainer(model, encoded_dataset[\"train\"], encoded_dataset[\"dev\"], space)\n",
    "    trainer.train()\n",
    "    metrics = trainer.evaluate(encoded_dataset[\"dev\"])\n",
    "    f1 = metrics[\"eval_f1\"]\n",
    "\n",
    "    if TESTING_FLAG:\n",
    "        print(f\"[Hyperopt] params={space} => F1={f1:.4f}\")\n",
    "    return {\"loss\": -f1, \"status\": STATUS_OK}\n",
    "\n",
    "trials = Trials()\n",
    "best = fmin(\n",
    "    fn=objective,\n",
    "    space=SEARCH_SPACE,\n",
    "    algo=tpe.suggest,\n",
    "    max_evals=MAX_EVALS,\n",
    "    trials=trials\n",
    ")\n",
    "\n",
    "if TESTING_FLAG:\n",
    "    print(\"\\nHyperopt best param indices:\", best)"
   ]
  },
  {
   "cell_type": "code",
   "execution_count": 11,
   "metadata": {
    "_cell_guid": "b1076dfc-b9ad-4769-8c92-a6c4dae69d19",
    "_uuid": "8f2839f25d086af736a60e9eeb907d3b93b6e0e5",
    "execution": {
     "iopub.execute_input": "2025-04-01T21:12:52.344772Z",
     "iopub.status.busy": "2025-04-01T21:12:52.344498Z",
     "iopub.status.idle": "2025-04-01T21:12:52.349967Z",
     "shell.execute_reply": "2025-04-01T21:12:52.349331Z",
     "shell.execute_reply.started": "2025-04-01T21:12:52.344747Z"
    }
   },
   "outputs": [
    {
     "name": "stdout",
     "output_type": "stream",
     "text": [
      "Interpreted best hyperparams:\n",
      " {'learning_rate': np.float64(0.000256275263307022), 'epochs': 3, 'batch_size': 16, 'use_focal_loss': True, 'gamma': np.float64(1.0), 'label_smoothing': np.float64(0.03442125718345023)}\n"
     ]
    }
   ],
   "source": [
    "# ----------------------------------------------------------------------------\n",
    "# 8.1 Interpret Best Hyperparams\n",
    "# ----------------------------------------------------------------------------\n",
    "EPOCH_OPTIONS = [2, 3, 4]\n",
    "BATCH_OPTIONS = [4, 8, 16]\n",
    "USE_FOCAL_OPTIONS = [False, True]\n",
    "\n",
    "final_params = {\n",
    "    \"learning_rate\":    best[\"learning_rate\"],\n",
    "    \"epochs\":           EPOCH_OPTIONS[ best[\"epochs\"] ],\n",
    "    \"batch_size\":       BATCH_OPTIONS[ best[\"batch_size\"] ],\n",
    "    \"use_focal_loss\":   USE_FOCAL_OPTIONS[ best[\"use_focal_loss\"] ],\n",
    "    \"gamma\":            best[\"gamma\"],\n",
    "    \"label_smoothing\":  best[\"label_smoothing\"]\n",
    "}\n",
    "\n",
    "if TESTING_FLAG:\n",
    "    print(\"Interpreted best hyperparams:\\n\", final_params)"
   ]
  },
  {
   "cell_type": "code",
   "execution_count": null,
   "metadata": {
    "execution": {
     "iopub.execute_input": "2025-04-01T21:12:52.351043Z",
     "iopub.status.busy": "2025-04-01T21:12:52.350765Z",
     "iopub.status.idle": "2025-04-01T21:21:27.556406Z",
     "shell.execute_reply": "2025-04-01T21:21:27.555691Z",
     "shell.execute_reply.started": "2025-04-01T21:12:52.351016Z"
    }
   },
   "outputs": [
    {
     "data": {
      "text/html": [
       "\n",
       "    <div>\n",
       "      \n",
       "      <progress value='4656' max='4656' style='width:300px; height:20px; vertical-align: middle;'></progress>\n",
       "      [4656/4656 04:10, Epoch 3/3]\n",
       "    </div>\n",
       "    <table border=\"1\" class=\"dataframe\">\n",
       "  <thead>\n",
       " <tr style=\"text-align: left;\">\n",
       "      <th>Epoch</th>\n",
       "      <th>Training Loss</th>\n",
       "      <th>Validation Loss</th>\n",
       "      <th>F1</th>\n",
       "      <th>Accuracy</th>\n",
       "    </tr>\n",
       "  </thead>\n",
       "  <tbody>\n",
       "    <tr>\n",
       "      <td>1</td>\n",
       "      <td>0.228400</td>\n",
       "      <td>0.212856</td>\n",
       "      <td>0.801472</td>\n",
       "      <td>0.798515</td>\n",
       "    </tr>\n",
       "    <tr>\n",
       "      <td>2</td>\n",
       "      <td>0.173900</td>\n",
       "      <td>0.196101</td>\n",
       "      <td>0.819288</td>\n",
       "      <td>0.819271</td>\n",
       "    </tr>\n",
       "    <tr>\n",
       "      <td>3</td>\n",
       "      <td>0.139000</td>\n",
       "      <td>0.208608</td>\n",
       "      <td>0.823521</td>\n",
       "      <td>0.827202</td>\n",
       "    </tr>\n",
       "  </tbody>\n",
       "</table><p>"
      ],
      "text/plain": [
       "<IPython.core.display.HTML object>"
      ]
     },
     "metadata": {},
     "output_type": "display_data"
    },
    {
     "data": {
      "text/html": [],
      "text/plain": [
       "<IPython.core.display.HTML object>"
      ]
     },
     "metadata": {},
     "output_type": "display_data"
    },
    {
     "name": "stdout",
     "output_type": "stream",
     "text": [
      "Final Dev Results: {'eval_loss': 0.20860803127288818, 'eval_f1': 0.8235211803073061, 'eval_accuracy': 0.8272021599730003, 'eval_runtime': 13.1419, 'eval_samples_per_second': 450.926, 'eval_steps_per_second': 56.385, 'epoch': 3.0}\n",
      "\n",
      "Detailed Classification Report (Dev):\n",
      "              precision    recall  f1-score   support\n",
      "\n",
      "           0     0.8634    0.9041    0.8833      4286\n",
      "           1     0.7142    0.6262    0.6673      1640\n",
      "\n",
      "    accuracy                         0.8272      5926\n",
      "   macro avg     0.7888    0.7652    0.7753      5926\n",
      "weighted avg     0.8221    0.8272    0.8235      5926\n",
      "\n"
     ]
    }
   ],
   "source": [
    "# ----------------------------------------------------------------------------\n",
    "# 9. Train Final Model\n",
    "# ----------------------------------------------------------------------------\n",
    "best_model = CustomBiLSTMModel(\n",
    "    vocab_size=len(tokenizer.get_vocab()),\n",
    "    embed_dim=EMBED_DIM,\n",
    "    hidden_dim=HIDDEN_DIM,\n",
    "    num_layers=NUM_LAYERS,\n",
    "    dropout=DROPOUT,\n",
    "    use_attention=USE_ATTENTION,\n",
    "    num_labels=2,\n",
    "    use_focal_loss=final_params[\"use_focal_loss\"],\n",
    "    gamma=final_params[\"gamma\"],\n",
    "    label_smoothing=final_params[\"label_smoothing\"],\n",
    "    embedding_matrix=embedding_matrix_tensor\n",
    ")\n",
    "best_model.to(device)\n",
    "\n",
    "training_args = TrainingArguments(\n",
    "    output_dir=\"./final-enhanced-bilstm-model\",\n",
    "    eval_strategy=\"epoch\",\n",
    "    save_strategy=\"epoch\",\n",
    "    logging_strategy=\"epoch\",\n",
    "    learning_rate=final_params[\"learning_rate\"],\n",
    "    num_train_epochs=final_params[\"epochs\"],\n",
    "    per_device_train_batch_size=final_params[\"batch_size\"],\n",
    "    per_device_eval_batch_size=EVAL_BATCH_SIZE,\n",
    "    load_best_model_at_end=True,\n",
    "    metric_for_best_model=BEST_MODEL_METRIC,\n",
    "    greater_is_better=True,\n",
    "    save_total_limit=1,\n",
    "    report_to=\"none\",\n",
    "    logging_steps=1\n",
    ")\n",
    "\n",
    "trainer = Trainer(\n",
    "    model=best_model,\n",
    "    args=training_args,\n",
    "    train_dataset=encoded_dataset[\"train\"],\n",
    "    eval_dataset=encoded_dataset[\"dev\"],\n",
    "    processing_class=tokenizer,\n",
    "    compute_metrics=compute_metrics\n",
    ")\n",
    "\n",
    "trainer.train()\n",
    "results_dev = trainer.evaluate(encoded_dataset[\"dev\"])\n",
    "if TESTING_FLAG:\n",
    "    print(\"Final Dev Results:\", results_dev)\n",
    "\n",
    "preds_output = trainer.predict(encoded_dataset[\"dev\"])\n",
    "dev_preds = np.argmax(preds_output.predictions, axis=1)\n",
    "dev_labels = preds_output.label_ids\n",
    "if TESTING_FLAG:\n",
    "    print(\"\\nDetailed Classification Report (Dev):\")\n",
    "    print(classification_report(dev_labels, dev_preds, digits=4))\n",
    "    "
   ]
  },
  {
   "cell_type": "code",
   "execution_count": 33,
   "metadata": {},
   "outputs": [
    {
     "name": "stdout",
     "output_type": "stream",
     "text": [
      "Best model saved to data\\ED_B_Model.pt\n"
     ]
    }
   ],
   "source": [
    "#Save the best model\n",
    "torch.save(trainer.model.state_dict(), BEST_MODEL_PATH)\n",
    "print(f\"Best model saved to {BEST_MODEL_PATH}\")"
   ]
  },
  {
   "cell_type": "code",
   "execution_count": 36,
   "metadata": {},
   "outputs": [
    {
     "name": "stdout",
     "output_type": "stream",
     "text": [
      "Successfully loaded state_dict into loaded_model.\n"
     ]
    }
   ],
   "source": [
    "loaded_model = CustomBiLSTMModel(\n",
    "    vocab_size=len(tokenizer.get_vocab()),\n",
    "    embed_dim=EMBED_DIM,\n",
    "    hidden_dim=HIDDEN_DIM,\n",
    "    num_layers=NUM_LAYERS,\n",
    "    dropout=DROPOUT,\n",
    "    use_attention=USE_ATTENTION,\n",
    "    num_labels=2,\n",
    "    use_focal_loss=final_params[\"use_focal_loss\"],\n",
    "    gamma=final_params[\"gamma\"],\n",
    "    label_smoothing=final_params[\"label_smoothing\"],\n",
    "    embedding_matrix=embedding_matrix_tensor\n",
    ")\n",
    "\n",
    "loaded_model.load_state_dict(torch.load(BEST_MODEL_PATH, map_location=device))\n",
    "loaded_model.to(device)\n",
    "loaded_model.eval()\n",
    "print(\"Successfully loaded state_dict into loaded_model.\")\n",
    "\n",
    "trainer.model = loaded_model\n"
   ]
  },
  {
   "cell_type": "code",
   "execution_count": null,
   "metadata": {
    "execution": {
     "iopub.execute_input": "2025-04-01T21:21:27.558768Z",
     "iopub.status.busy": "2025-04-01T21:21:27.558526Z",
     "iopub.status.idle": "2025-04-01T21:21:51.176503Z",
     "shell.execute_reply": "2025-04-01T21:21:51.175676Z",
     "shell.execute_reply.started": "2025-04-01T21:21:27.558748Z"
    }
   },
   "outputs": [
    {
     "name": "stdout",
     "output_type": "stream",
     "text": [
      "Saved predictions\n"
     ]
    }
   ],
   "source": [
    "# ----------------------------------------------------------------------------\n",
    "# 10. Inference on Test Set\n",
    "# ----------------------------------------------------------------------------\n",
    "from torch.utils.data import DataLoader\n",
    "\n",
    "test_loader = DataLoader(encoded_dataset[\"test\"], batch_size=8)\n",
    "\n",
    "all_preds = []\n",
    "loaded_model.eval()\n",
    "\n",
    "for batch in test_loader:\n",
    "    for key in batch:\n",
    "        batch[key] = batch[key].to(device)\n",
    "\n",
    "    with torch.no_grad():\n",
    "        outputs = loaded_model(**batch)       \n",
    "    logits = outputs[\"logits\"]               \n",
    "    preds = torch.argmax(logits, dim=1)\n",
    "    all_preds.extend(preds.cpu().tolist())\n",
    "\n",
    "# Convert to a DataFrame and save\n",
    "test_pred_df = pd.DataFrame({\"prediction\": all_preds})\n",
    "test_pred_df.to_csv(OUTPUT_PATH, index=False, header=True)\n",
    "print(\"Saved predictions\")\n"
   ]
  },
  {
   "cell_type": "code",
   "execution_count": null,
   "metadata": {},
   "outputs": [
    {
     "name": "stdout",
     "output_type": "stream",
     "text": [
      "Saved dev predictions to dev_predictions.csv\n"
     ]
    }
   ],
   "source": [
    "# ----------------------------------------------------------------------------\n",
    "# Inference on Dev Set (codebench debugging)\n",
    "# ----------------------------------------------------------------------------\n",
    "from torch.utils.data import DataLoader\n",
    "\n",
    "dev_loader = DataLoader(encoded_dataset[\"dev\"], batch_size=8)\n",
    "\n",
    "all_dev_preds = []\n",
    "loaded_model.eval()\n",
    "\n",
    "for batch in dev_loader:\n",
    "    for key in batch:\n",
    "        batch[key] = batch[key].to(device)\n",
    "\n",
    "    with torch.no_grad():\n",
    "        outputs = loaded_model(**batch) \n",
    "    logits = outputs[\"logits\"]          \n",
    "    preds = torch.argmax(logits, dim=1) \n",
    "    all_dev_preds.extend(preds.cpu().tolist())\n",
    "\n",
    "\n",
    "dev_pred_df = pd.DataFrame({\"prediction\": all_dev_preds})\n",
    "dev_pred_df.to_csv(\"dev_predictions.csv\", index=False, header=True)\n",
    "\n",
    "print(\"Saved dev predictions to dev_predictions.csv\")\n"
   ]
  }
 ],
 "metadata": {
  "kaggle": {
   "accelerator": "gpu",
   "dataSources": [
    {
     "datasetId": 6952367,
     "sourceId": 11144868,
     "sourceType": "datasetVersion"
    }
   ],
   "dockerImageVersionId": 30919,
   "isGpuEnabled": true,
   "isInternetEnabled": true,
   "language": "python",
   "sourceType": "notebook"
  },
  "kernelspec": {
   "display_name": "venv",
   "language": "python",
   "name": "python3"
  },
  "language_info": {
   "codemirror_mode": {
    "name": "ipython",
    "version": 3
   },
   "file_extension": ".py",
   "mimetype": "text/x-python",
   "name": "python",
   "nbconvert_exporter": "python",
   "pygments_lexer": "ipython3",
   "version": "3.10.0"
  }
 },
 "nbformat": 4,
 "nbformat_minor": 4
}
