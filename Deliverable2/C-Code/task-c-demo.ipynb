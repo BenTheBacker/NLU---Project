{
 "cells": [
  {
   "cell_type": "code",
   "execution_count": 10,
   "id": "1e0d1258",
   "metadata": {},
   "outputs": [],
   "source": [
    "# ----------------------------------------------------------------------------\n",
    "# DEMO SCRIPT - loads a trained DeBERTa model and runs inference on a test set\n",
    "# ----------------------------------------------------------------------------\n",
    "\n",
    "import torch\n",
    "import pandas as pd\n",
    "import numpy as np\n",
    "\n",
    "from torch.utils.data import DataLoader\n",
    "from datasets import Dataset\n",
    "from transformers import AutoTokenizer, AutoModelForSequenceClassification, AutoConfig\n",
    "\n",
    "import torch.nn as nn\n",
    "import torch.nn.functional as F\n",
    "\n",
    "class CustomDebertaModel(nn.Module):\n",
    "    def __init__(\n",
    "        self,\n",
    "        model_name,\n",
    "        num_labels=2,\n",
    "        use_focal_loss=False,\n",
    "        gamma=2.0,\n",
    "        label_smoothing=0.0\n",
    "    ):\n",
    "        super().__init__()\n",
    "        self.num_labels = num_labels\n",
    "        self.use_focal_loss = use_focal_loss\n",
    "        self.gamma = gamma\n",
    "        self.label_smoothing = label_smoothing\n",
    "\n",
    "        # We'll load the HF model from its config or from_pretrained\n",
    "        self.model = AutoModelForSequenceClassification.from_pretrained(\n",
    "            model_name,\n",
    "            num_labels=num_labels\n",
    "        )\n",
    "\n",
    "    def forward(self, input_ids=None, attention_mask=None, **kwargs):\n",
    "        outputs = self.model(\n",
    "            input_ids=input_ids,\n",
    "            attention_mask=attention_mask,\n",
    "            **kwargs\n",
    "        )\n",
    "        logits = outputs.logits\n",
    "        return {\"logits\": logits}"
   ]
  },
  {
   "cell_type": "code",
   "execution_count": 11,
   "id": "bac6728a",
   "metadata": {},
   "outputs": [
    {
     "name": "stderr",
     "output_type": "stream",
     "text": [
      "Some weights of DebertaV2ForSequenceClassification were not initialized from the model checkpoint at microsoft/deberta-v3-base and are newly initialized: ['classifier.bias', 'classifier.weight', 'pooler.dense.bias', 'pooler.dense.weight']\n",
      "You should probably TRAIN this model on a down-stream task to be able to use it for predictions and inference.\n"
     ]
    },
    {
     "name": "stdout",
     "output_type": "stream",
     "text": [
      "DeBERTa model loaded successfully!\n"
     ]
    }
   ],
   "source": [
    "# (2) Load the Trained Model Checkpoint\n",
    "BEST_MODEL_PATH = \"data\\\\taskC\\\\best_deberta_model.pt\" \n",
    "device = torch.device(\"cuda\" if torch.cuda.is_available() else \"cpu\")\n",
    "\n",
    "checkpoint = torch.load(\n",
    "    BEST_MODEL_PATH, \n",
    "    map_location=device\n",
    ")\n",
    "\n",
    "# Extract hyperparams, config, or anything else you saved\n",
    "state_dict   = checkpoint[\"model_state_dict\"]\n",
    "hyperparams  = checkpoint[\"hyperparams\"]\n",
    "\n",
    "model_name       = hyperparams[\"model_name\"]\n",
    "num_labels       = hyperparams[\"num_labels\"]\n",
    "use_focal_loss   = hyperparams[\"use_focal_loss\"]\n",
    "gamma            = hyperparams[\"gamma\"]\n",
    "label_smoothing  = hyperparams[\"label_smoothing\"]\n",
    "\n",
    "# Re-instantiate the custom model\n",
    "loaded_model = CustomDebertaModel(\n",
    "    model_name=model_name,\n",
    "    num_labels=num_labels,\n",
    "    use_focal_loss=use_focal_loss,\n",
    "    gamma=gamma,\n",
    "    label_smoothing=label_smoothing\n",
    ")\n",
    "\n",
    "# Load the trained weights\n",
    "loaded_model.load_state_dict(state_dict)\n",
    "loaded_model.to(device)\n",
    "loaded_model.eval()\n",
    "print(\"DeBERTa model loaded successfully!\")"
   ]
  },
  {
   "cell_type": "code",
   "execution_count": 12,
   "id": "9d33a3bd",
   "metadata": {},
   "outputs": [
    {
     "name": "stderr",
     "output_type": "stream",
     "text": [
      "c:\\Users\\Backe\\Documents\\Manchester Uni\\Year 3\\NLU - Project\\venv\\lib\\site-packages\\transformers\\convert_slow_tokenizer.py:559: UserWarning: The sentencepiece tokenizer that you are converting to a fast tokenizer uses the byte fallback option which is not implemented in the fast tokenizers. In practice this means that the fast version of the tokenizer can produce unknown tokens whereas the sentencepiece version would have converted these unknown tokens into a sequence of byte tokens matching the original piece of text.\n",
      "  warnings.warn(\n"
     ]
    },
    {
     "data": {
      "application/vnd.jupyter.widget-view+json": {
       "model_id": "cd3c24e62492439d8abd3336b3bbe411",
       "version_major": 2,
       "version_minor": 0
      },
      "text/plain": [
       "Map:   0%|          | 0/5926 [00:00<?, ? examples/s]"
      ]
     },
     "metadata": {},
     "output_type": "display_data"
    }
   ],
   "source": [
    "# (3) Load and Preprocess Test Data\n",
    "TEST_PATH = \"data\\\\dev.csv\"  \n",
    "OUTPUT_PATH = \"data\\\\predictions_demo_deberta.csv\"\n",
    "\n",
    "test_df = pd.read_csv(TEST_PATH)\n",
    "\n",
    "if 'label' in test_df.columns:\n",
    "    test_df.drop(columns=['label'], inplace=True)\n",
    "\n",
    "test_df.rename(columns={\"Claim\": \"claim\", \"Evidence\": \"evidence\"}, inplace=True)\n",
    "\n",
    "test_dataset = Dataset.from_pandas(test_df)\n",
    "\n",
    "# Use the same tokenizer that was used in training\n",
    "tokenizer = AutoTokenizer.from_pretrained(model_name)\n",
    "\n",
    "def tokenize_function(examples):\n",
    "    return tokenizer(\n",
    "        examples[\"claim\"],\n",
    "        examples[\"evidence\"],\n",
    "        truncation=True,\n",
    "        padding=\"max_length\",\n",
    "        max_length=128\n",
    "    )\n",
    "\n",
    "test_dataset = test_dataset.map(tokenize_function, batched=True)\n",
    "test_dataset = test_dataset.remove_columns([\"claim\", \"evidence\"])\n",
    "\n",
    "# Convert to PyTorch Tensors\n",
    "test_dataset.set_format(\"torch\")\n"
   ]
  },
  {
   "cell_type": "code",
   "execution_count": 13,
   "id": "32e46bed",
   "metadata": {},
   "outputs": [],
   "source": [
    "# (4) Inference Loop\n",
    "test_loader = DataLoader(test_dataset, batch_size=8)\n",
    "all_preds = []\n",
    "\n",
    "loaded_model.eval()\n",
    "with torch.no_grad():\n",
    "    for batch in test_loader:\n",
    "        # Move tensor fields to device\n",
    "        batch = {k: v.to(device) for k, v in batch.items()}\n",
    "\n",
    "        outputs = loaded_model(**batch)\n",
    "        logits = outputs[\"logits\"]\n",
    "        preds = torch.argmax(logits, dim=1)\n",
    "        all_preds.extend(preds.cpu().tolist())"
   ]
  },
  {
   "cell_type": "code",
   "execution_count": 14,
   "id": "c792a6ec",
   "metadata": {},
   "outputs": [
    {
     "name": "stdout",
     "output_type": "stream",
     "text": [
      "Predictions saved to data\\predictions_demo_deberta.csv\n"
     ]
    }
   ],
   "source": [
    "# (5) Save Predictions\n",
    "test_pred_df = pd.DataFrame({\"prediction\": all_preds})\n",
    "test_pred_df.to_csv(OUTPUT_PATH, index=False, header=True)\n",
    "print(f\"Predictions saved to {OUTPUT_PATH}\")"
   ]
  }
 ],
 "metadata": {
  "kernelspec": {
   "display_name": "venv",
   "language": "python",
   "name": "python3"
  },
  "language_info": {
   "codemirror_mode": {
    "name": "ipython",
    "version": 3
   },
   "file_extension": ".py",
   "mimetype": "text/x-python",
   "name": "python",
   "nbconvert_exporter": "python",
   "pygments_lexer": "ipython3",
   "version": "3.10.0"
  }
 },
 "nbformat": 4,
 "nbformat_minor": 5
}
